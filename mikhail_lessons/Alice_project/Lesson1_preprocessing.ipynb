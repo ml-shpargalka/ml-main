{
 "cells": [
  {
   "cell_type": "code",
   "execution_count": 1,
   "metadata": {
    "collapsed": true
   },
   "outputs": [],
   "source": [
    "# отключим всякие предупреждения Anaconda\n",
    "import warnings\n",
    "warnings.filterwarnings('ignore')\n",
    "from glob import glob\n",
    "import os\n",
    "import pickle\n",
    "#pip install tqdm\n",
    "from tqdm import tqdm_notebook\n",
    "import numpy as np\n",
    "import pandas as pd\n",
    "from scipy.sparse import csr_matrix"
   ]
  },
  {
   "cell_type": "code",
   "execution_count": 2,
   "metadata": {
    "collapsed": true
   },
   "outputs": [],
   "source": [
    "# Поменяйте на свой путь к данным\n",
    "PATH_TO_DATA = 'capstone_user_identification'"
   ]
  },
  {
   "cell_type": "code",
   "execution_count": 68,
   "metadata": {
    "collapsed": true
   },
   "outputs": [],
   "source": [
    "user31_data = pd.read_csv(os.path.join(PATH_TO_DATA, \n",
    "                                       '3users/user0001.csv'))"
   ]
  },
  {
   "cell_type": "code",
   "execution_count": 72,
   "metadata": {},
   "outputs": [
    {
     "data": {
      "text/html": [
       "<div>\n",
       "<style scoped>\n",
       "    .dataframe tbody tr th:only-of-type {\n",
       "        vertical-align: middle;\n",
       "    }\n",
       "\n",
       "    .dataframe tbody tr th {\n",
       "        vertical-align: top;\n",
       "    }\n",
       "\n",
       "    .dataframe thead th {\n",
       "        text-align: right;\n",
       "    }\n",
       "</style>\n",
       "<table border=\"1\" class=\"dataframe\">\n",
       "  <thead>\n",
       "    <tr style=\"text-align: right;\">\n",
       "      <th></th>\n",
       "      <th>timestamp</th>\n",
       "      <th>site</th>\n",
       "      <th>session_id</th>\n",
       "    </tr>\n",
       "  </thead>\n",
       "  <tbody>\n",
       "    <tr>\n",
       "      <th>0</th>\n",
       "      <td>2013-11-15 09:28:17</td>\n",
       "      <td>vk.com</td>\n",
       "      <td>0</td>\n",
       "    </tr>\n",
       "    <tr>\n",
       "      <th>1</th>\n",
       "      <td>2013-11-15 09:33:04</td>\n",
       "      <td>oracle.com</td>\n",
       "      <td>0</td>\n",
       "    </tr>\n",
       "    <tr>\n",
       "      <th>2</th>\n",
       "      <td>2013-11-15 09:52:48</td>\n",
       "      <td>oracle.com</td>\n",
       "      <td>0</td>\n",
       "    </tr>\n",
       "    <tr>\n",
       "      <th>3</th>\n",
       "      <td>2013-11-15 11:37:26</td>\n",
       "      <td>geo.mozilla.org</td>\n",
       "      <td>0</td>\n",
       "    </tr>\n",
       "    <tr>\n",
       "      <th>4</th>\n",
       "      <td>2013-11-15 11:40:32</td>\n",
       "      <td>oracle.com</td>\n",
       "      <td>0</td>\n",
       "    </tr>\n",
       "    <tr>\n",
       "      <th>5</th>\n",
       "      <td>2013-11-15 11:40:34</td>\n",
       "      <td>google.com</td>\n",
       "      <td>0</td>\n",
       "    </tr>\n",
       "    <tr>\n",
       "      <th>6</th>\n",
       "      <td>2013-11-15 11:40:35</td>\n",
       "      <td>accounts.google.com</td>\n",
       "      <td>0</td>\n",
       "    </tr>\n",
       "    <tr>\n",
       "      <th>7</th>\n",
       "      <td>2013-11-15 11:40:37</td>\n",
       "      <td>mail.google.com</td>\n",
       "      <td>0</td>\n",
       "    </tr>\n",
       "    <tr>\n",
       "      <th>8</th>\n",
       "      <td>2013-11-15 11:40:40</td>\n",
       "      <td>apis.google.com</td>\n",
       "      <td>0</td>\n",
       "    </tr>\n",
       "    <tr>\n",
       "      <th>9</th>\n",
       "      <td>2013-11-15 11:41:35</td>\n",
       "      <td>plus.google.com</td>\n",
       "      <td>0</td>\n",
       "    </tr>\n",
       "    <tr>\n",
       "      <th>10</th>\n",
       "      <td>2013-11-15 12:40:35</td>\n",
       "      <td>vk.com</td>\n",
       "      <td>1</td>\n",
       "    </tr>\n",
       "    <tr>\n",
       "      <th>11</th>\n",
       "      <td>2013-11-15 12:40:37</td>\n",
       "      <td>google.com</td>\n",
       "      <td>1</td>\n",
       "    </tr>\n",
       "    <tr>\n",
       "      <th>12</th>\n",
       "      <td>2013-11-15 12:40:40</td>\n",
       "      <td>google.com</td>\n",
       "      <td>1</td>\n",
       "    </tr>\n",
       "    <tr>\n",
       "      <th>13</th>\n",
       "      <td>2013-11-15 12:41:35</td>\n",
       "      <td>google.com</td>\n",
       "      <td>1</td>\n",
       "    </tr>\n",
       "  </tbody>\n",
       "</table>\n",
       "</div>"
      ],
      "text/plain": [
       "              timestamp                 site  session_id\n",
       "0   2013-11-15 09:28:17               vk.com           0\n",
       "1   2013-11-15 09:33:04           oracle.com           0\n",
       "2   2013-11-15 09:52:48           oracle.com           0\n",
       "3   2013-11-15 11:37:26      geo.mozilla.org           0\n",
       "4   2013-11-15 11:40:32           oracle.com           0\n",
       "5   2013-11-15 11:40:34           google.com           0\n",
       "6   2013-11-15 11:40:35  accounts.google.com           0\n",
       "7   2013-11-15 11:40:37      mail.google.com           0\n",
       "8   2013-11-15 11:40:40      apis.google.com           0\n",
       "9   2013-11-15 11:41:35      plus.google.com           0\n",
       "10  2013-11-15 12:40:35               vk.com           1\n",
       "11  2013-11-15 12:40:37           google.com           1\n",
       "12  2013-11-15 12:40:40           google.com           1\n",
       "13  2013-11-15 12:41:35           google.com           1"
      ]
     },
     "execution_count": 72,
     "metadata": {},
     "output_type": "execute_result"
    }
   ],
   "source": [
    "user31_data['session_id'] = (user31_data.index)/10\n",
    "user31_data.head(20)"
   ]
  },
  {
   "cell_type": "code",
   "execution_count": 3,
   "metadata": {
    "collapsed": true
   },
   "outputs": [],
   "source": [
    "with open('./tools.py', 'r') as f:\n",
    "    exec(f.read())"
   ]
  },
  {
   "cell_type": "code",
   "execution_count": 5,
   "metadata": {
    "collapsed": true
   },
   "outputs": [],
   "source": [
    "path_to_csv_files = os.path.join(PATH_TO_DATA, '3users')"
   ]
  },
  {
   "cell_type": "code",
   "execution_count": 6,
   "metadata": {},
   "outputs": [
    {
     "data": {
      "text/html": [
       "<div>\n",
       "<style scoped>\n",
       "    .dataframe tbody tr th:only-of-type {\n",
       "        vertical-align: middle;\n",
       "    }\n",
       "\n",
       "    .dataframe tbody tr th {\n",
       "        vertical-align: top;\n",
       "    }\n",
       "\n",
       "    .dataframe thead th {\n",
       "        text-align: right;\n",
       "    }\n",
       "</style>\n",
       "<table border=\"1\" class=\"dataframe\">\n",
       "  <thead>\n",
       "    <tr style=\"text-align: right;\">\n",
       "      <th></th>\n",
       "      <th>user_id</th>\n",
       "      <th>site1</th>\n",
       "      <th>site2</th>\n",
       "      <th>site3</th>\n",
       "      <th>site4</th>\n",
       "      <th>site5</th>\n",
       "      <th>site6</th>\n",
       "      <th>site7</th>\n",
       "      <th>site8</th>\n",
       "      <th>site9</th>\n",
       "      <th>site10</th>\n",
       "    </tr>\n",
       "    <tr>\n",
       "      <th>session_id</th>\n",
       "      <th></th>\n",
       "      <th></th>\n",
       "      <th></th>\n",
       "      <th></th>\n",
       "      <th></th>\n",
       "      <th></th>\n",
       "      <th></th>\n",
       "      <th></th>\n",
       "      <th></th>\n",
       "      <th></th>\n",
       "      <th></th>\n",
       "    </tr>\n",
       "  </thead>\n",
       "  <tbody>\n",
       "    <tr>\n",
       "      <th>0</th>\n",
       "      <td>1</td>\n",
       "      <td>vk</td>\n",
       "      <td>oracle</td>\n",
       "      <td>oracle</td>\n",
       "      <td>geo.mozilla.org</td>\n",
       "      <td>oracle</td>\n",
       "      <td>google</td>\n",
       "      <td>accounts.google</td>\n",
       "      <td>mail.google</td>\n",
       "      <td>apis.google</td>\n",
       "      <td>plus.google</td>\n",
       "    </tr>\n",
       "    <tr>\n",
       "      <th>1</th>\n",
       "      <td>1</td>\n",
       "      <td>vk</td>\n",
       "      <td>google</td>\n",
       "      <td>google</td>\n",
       "      <td>google</td>\n",
       "      <td>0</td>\n",
       "      <td>0</td>\n",
       "      <td>0</td>\n",
       "      <td>0</td>\n",
       "      <td>0</td>\n",
       "      <td>0</td>\n",
       "    </tr>\n",
       "    <tr>\n",
       "      <th>0</th>\n",
       "      <td>2</td>\n",
       "      <td>vk</td>\n",
       "      <td>oracle</td>\n",
       "      <td>football.kulichki.ru</td>\n",
       "      <td>football.kulichki.ru</td>\n",
       "      <td>oracle</td>\n",
       "      <td>0</td>\n",
       "      <td>0</td>\n",
       "      <td>0</td>\n",
       "      <td>0</td>\n",
       "      <td>0</td>\n",
       "    </tr>\n",
       "    <tr>\n",
       "      <th>0</th>\n",
       "      <td>3</td>\n",
       "      <td>meduza.io</td>\n",
       "      <td>google</td>\n",
       "      <td>oracle</td>\n",
       "      <td>google</td>\n",
       "      <td>oracle</td>\n",
       "      <td>google</td>\n",
       "      <td>google</td>\n",
       "      <td>mail.google</td>\n",
       "      <td>yandex.ru</td>\n",
       "      <td>meduza.io</td>\n",
       "    </tr>\n",
       "    <tr>\n",
       "      <th>1</th>\n",
       "      <td>3</td>\n",
       "      <td>meduza.io</td>\n",
       "      <td>google</td>\n",
       "      <td>oracle</td>\n",
       "      <td>0</td>\n",
       "      <td>0</td>\n",
       "      <td>0</td>\n",
       "      <td>0</td>\n",
       "      <td>0</td>\n",
       "      <td>0</td>\n",
       "      <td>0</td>\n",
       "    </tr>\n",
       "  </tbody>\n",
       "</table>\n",
       "</div>"
      ],
      "text/plain": [
       "           user_id      site1   site2                 site3  \\\n",
       "session_id                                                    \n",
       "0                1         vk  oracle                oracle   \n",
       "1                1         vk  google                google   \n",
       "0                2         vk  oracle  football.kulichki.ru   \n",
       "0                3  meduza.io  google                oracle   \n",
       "1                3  meduza.io  google                oracle   \n",
       "\n",
       "                           site4   site5   site6            site7  \\\n",
       "session_id                                                          \n",
       "0                geo.mozilla.org  oracle  google  accounts.google   \n",
       "1                         google       0       0                0   \n",
       "0           football.kulichki.ru  oracle       0                0   \n",
       "0                         google  oracle  google           google   \n",
       "1                              0       0       0                0   \n",
       "\n",
       "                  site8        site9       site10  \n",
       "session_id                                         \n",
       "0           mail.google  apis.google  plus.google  \n",
       "1                     0            0            0  \n",
       "0                     0            0            0  \n",
       "0           mail.google    yandex.ru    meduza.io  \n",
       "1                     0            0            0  "
      ]
     },
     "execution_count": 6,
     "metadata": {},
     "output_type": "execute_result"
    }
   ],
   "source": [
    "frame_sites, site_freq = prepare_train_set(path_to_csv_files, text=True)\n",
    "\n",
    "frame_sites.head()"
   ]
  },
  {
   "cell_type": "code",
   "execution_count": 22,
   "metadata": {
    "collapsed": true
   },
   "outputs": [],
   "source": [
    "path_to_csv_files_10users = os.path.join(PATH_TO_DATA, '10users')\n",
    "path_to_csv_files_150users = os.path.join(PATH_TO_DATA, '150users')\n",
    "\n",
    "train_data_10users, site_freq_10users = prepare_train_set(path_to_csv_files_10users, text=True)\n",
    "train_data_150users, site_freq150users = prepare_train_set(path_to_csv_files_150users, text=True)"
   ]
  },
  {
   "cell_type": "code",
   "execution_count": 18,
   "metadata": {},
   "outputs": [
    {
     "data": {
      "text/html": [
       "<div>\n",
       "<style scoped>\n",
       "    .dataframe tbody tr th:only-of-type {\n",
       "        vertical-align: middle;\n",
       "    }\n",
       "\n",
       "    .dataframe tbody tr th {\n",
       "        vertical-align: top;\n",
       "    }\n",
       "\n",
       "    .dataframe thead th {\n",
       "        text-align: right;\n",
       "    }\n",
       "</style>\n",
       "<table border=\"1\" class=\"dataframe\">\n",
       "  <thead>\n",
       "    <tr style=\"text-align: right;\">\n",
       "      <th></th>\n",
       "      <th>user_id</th>\n",
       "      <th>site1</th>\n",
       "      <th>site2</th>\n",
       "      <th>site3</th>\n",
       "      <th>site4</th>\n",
       "      <th>site5</th>\n",
       "      <th>site6</th>\n",
       "      <th>site7</th>\n",
       "      <th>site8</th>\n",
       "      <th>site9</th>\n",
       "      <th>site10</th>\n",
       "    </tr>\n",
       "    <tr>\n",
       "      <th>session_id</th>\n",
       "      <th></th>\n",
       "      <th></th>\n",
       "      <th></th>\n",
       "      <th></th>\n",
       "      <th></th>\n",
       "      <th></th>\n",
       "      <th></th>\n",
       "      <th></th>\n",
       "      <th></th>\n",
       "      <th></th>\n",
       "      <th></th>\n",
       "    </tr>\n",
       "  </thead>\n",
       "  <tbody>\n",
       "    <tr>\n",
       "      <th>0</th>\n",
       "      <td>1</td>\n",
       "      <td>armmf.adobe</td>\n",
       "      <td>armmf.adobe</td>\n",
       "      <td>armdl.adobe</td>\n",
       "      <td>javadl-esd-secure.oracle</td>\n",
       "      <td>javadl-esd-secure.oracle</td>\n",
       "      <td>oracle</td>\n",
       "      <td>apex.oracle</td>\n",
       "      <td>oracle</td>\n",
       "      <td>gtssl-ocsp.geotrust</td>\n",
       "      <td>gtssl-ocsp.geotrust</td>\n",
       "    </tr>\n",
       "    <tr>\n",
       "      <th>1</th>\n",
       "      <td>1</td>\n",
       "      <td>gtglobal-ocsp.geotrust</td>\n",
       "      <td>clients1.google</td>\n",
       "      <td>squid-cache.org</td>\n",
       "      <td>geo.mozilla.org</td>\n",
       "      <td>sb-ssl.google</td>\n",
       "      <td>safebrowsing-cache.google</td>\n",
       "      <td>safebrowsing.clients.google</td>\n",
       "      <td>safebrowsing-cache.google</td>\n",
       "      <td>ocsp.thawte</td>\n",
       "      <td>ocsp.verisign</td>\n",
       "    </tr>\n",
       "    <tr>\n",
       "      <th>2</th>\n",
       "      <td>1</td>\n",
       "      <td>ocsp.digicert</td>\n",
       "      <td>safebrowsing.clients.google</td>\n",
       "      <td>safebrowsing-cache.google</td>\n",
       "      <td>safebrowsing.clients.google</td>\n",
       "      <td>safebrowsing-cache.google</td>\n",
       "      <td>safebrowsing-cache.google</td>\n",
       "      <td>javadl-esd-secure.oracle</td>\n",
       "      <td>javadl-esd-secure.oracle</td>\n",
       "      <td>oracle</td>\n",
       "      <td>oracle</td>\n",
       "    </tr>\n",
       "    <tr>\n",
       "      <th>3</th>\n",
       "      <td>1</td>\n",
       "      <td>apex.oracle</td>\n",
       "      <td>oracle</td>\n",
       "      <td>oracle</td>\n",
       "      <td>apex.oracle</td>\n",
       "      <td>javadl-esd-secure.oracle</td>\n",
       "      <td>oracle</td>\n",
       "      <td>apex.oracle</td>\n",
       "      <td>javadl-esd-secure.oracle</td>\n",
       "      <td>javadl-esd-secure.oracle</td>\n",
       "      <td>go.microsoft</td>\n",
       "    </tr>\n",
       "    <tr>\n",
       "      <th>4</th>\n",
       "      <td>1</td>\n",
       "      <td>windows.microsoft</td>\n",
       "      <td>ajax.microsoft</td>\n",
       "      <td>windows.microsoft</td>\n",
       "      <td>res1.windows.microsoft</td>\n",
       "      <td>res2.windows.microsoft</td>\n",
       "      <td>js.microsoft</td>\n",
       "      <td>js.microsoft</td>\n",
       "      <td>res1.windows.microsoft</td>\n",
       "      <td>bing</td>\n",
       "      <td>go.microsoft</td>\n",
       "    </tr>\n",
       "  </tbody>\n",
       "</table>\n",
       "</div>"
      ],
      "text/plain": [
       "           user_id                   site1                        site2  \\\n",
       "session_id                                                                \n",
       "0                1             armmf.adobe                  armmf.adobe   \n",
       "1                1  gtglobal-ocsp.geotrust              clients1.google   \n",
       "2                1           ocsp.digicert  safebrowsing.clients.google   \n",
       "3                1             apex.oracle                       oracle   \n",
       "4                1       windows.microsoft               ajax.microsoft   \n",
       "\n",
       "                                site3                        site4  \\\n",
       "session_id                                                           \n",
       "0                         armdl.adobe     javadl-esd-secure.oracle   \n",
       "1                     squid-cache.org              geo.mozilla.org   \n",
       "2           safebrowsing-cache.google  safebrowsing.clients.google   \n",
       "3                              oracle                  apex.oracle   \n",
       "4                   windows.microsoft       res1.windows.microsoft   \n",
       "\n",
       "                                site5                      site6  \\\n",
       "session_id                                                         \n",
       "0            javadl-esd-secure.oracle                     oracle   \n",
       "1                       sb-ssl.google  safebrowsing-cache.google   \n",
       "2           safebrowsing-cache.google  safebrowsing-cache.google   \n",
       "3            javadl-esd-secure.oracle                     oracle   \n",
       "4              res2.windows.microsoft               js.microsoft   \n",
       "\n",
       "                                  site7                      site8  \\\n",
       "session_id                                                           \n",
       "0                           apex.oracle                     oracle   \n",
       "1           safebrowsing.clients.google  safebrowsing-cache.google   \n",
       "2              javadl-esd-secure.oracle   javadl-esd-secure.oracle   \n",
       "3                           apex.oracle   javadl-esd-secure.oracle   \n",
       "4                          js.microsoft     res1.windows.microsoft   \n",
       "\n",
       "                               site9               site10  \n",
       "session_id                                                 \n",
       "0                gtssl-ocsp.geotrust  gtssl-ocsp.geotrust  \n",
       "1                        ocsp.thawte        ocsp.verisign  \n",
       "2                             oracle               oracle  \n",
       "3           javadl-esd-secure.oracle         go.microsoft  \n",
       "4                               bing         go.microsoft  "
      ]
     },
     "execution_count": 18,
     "metadata": {},
     "output_type": "execute_result"
    }
   ],
   "source": [
    "train_data_150users.head()"
   ]
  },
  {
   "cell_type": "code",
   "execution_count": 23,
   "metadata": {
    "collapsed": true
   },
   "outputs": [],
   "source": [
    "X_10users, y_10users = train_data_10users[['site'+str(r) for r in range(1,10+1)]].values, \\\n",
    "                       train_data_10users.reset_index('session_id')[['user_id']].values\n",
    "X_150users, y_150users = train_data_150users[['site'+str(r) for r in range(1,10+1)]].values, \\\n",
    "                       train_data_150users.reset_index('session_id')[['user_id']].values"
   ]
  },
  {
   "cell_type": "code",
   "execution_count": 14,
   "metadata": {
    "collapsed": true
   },
   "outputs": [],
   "source": [
    "train_data_10users.to_csv(os.path.join(PATH_TO_DATA, \n",
    "                                       'train_data_10users.csv'), float_format='%d')\n",
    "train_data_150users.to_csv(os.path.join(PATH_TO_DATA, \n",
    "                                        'train_data_150users.csv'), float_format='%d')"
   ]
  },
  {
   "cell_type": "code",
   "execution_count": 24,
   "metadata": {
    "collapsed": true
   },
   "outputs": [],
   "source": [
    "from sklearn.feature_extraction.text import CountVectorizer\n",
    "import numpy\n",
    "\n",
    "corpus = X_10users.tolist()\n",
    "corpus_text = list(map(lambda s: ' '.join(s), corpus))\n",
    "\n",
    "vectorizer = CountVectorizer()\n",
    "X = vectorizer.fit_transform(corpus_text)\n",
    "X_sparse_10users  = X.toarray()\n",
    "\n",
    "\n",
    "with open(os.path.join(PATH_TO_DATA, 'X_sparse_10users.pkl'), 'wb') as X10_pkl:\n",
    "    pickle.dump(X_sparse_10users, X10_pkl, protocol=2)\n",
    "with open(os.path.join(PATH_TO_DATA, 'y_10users.pkl'), 'wb') as y10_pkl:\n",
    "    pickle.dump(y_10users, y10_pkl, protocol=2)"
   ]
  },
  {
   "cell_type": "code",
   "execution_count": 28,
   "metadata": {
    "collapsed": true
   },
   "outputs": [],
   "source": [
    "from sklearn.feature_extraction.text import CountVectorizer\n",
    "import numpy\n",
    "\n",
    "corpus = X_150users.tolist()\n",
    "corpus_text = list(map(lambda s: ' '.join(s), corpus))\n",
    "\n",
    "vectorizer = CountVectorizer()\n",
    "X = vectorizer.fit_transform(corpus_text)\n",
    "X_sparse_150users  = X.toarray()\n",
    "\n",
    "\n",
    "with open(os.path.join(PATH_TO_DATA, 'X_sparse_150users.pkl'), 'wb') as X150_pkl:\n",
    "    pickle.dump(csr_matrix(X_sparse_150users), X150_pkl, protocol=2)\n",
    "with open(os.path.join(PATH_TO_DATA, 'y_150users.pkl'), 'wb') as y150_pkl:\n",
    "    pickle.dump(y_150users, y150_pkl, protocol=2)"
   ]
  },
  {
   "cell_type": "code",
   "execution_count": 7,
   "metadata": {},
   "outputs": [
    {
     "data": {
      "text/plain": [
       "array([[1, 1, 0, 1, 5, 0, 0, 1, 0, 1, 3, 1, 1, 0, 1, 0],\n",
       "       [0, 0, 0, 0, 3, 0, 0, 0, 0, 0, 0, 0, 0, 0, 1, 0],\n",
       "       [0, 0, 2, 0, 0, 0, 2, 0, 0, 0, 2, 0, 0, 2, 1, 0],\n",
       "       [0, 0, 0, 0, 5, 2, 0, 1, 2, 0, 2, 0, 0, 1, 0, 1],\n",
       "       [0, 0, 0, 0, 1, 1, 0, 0, 1, 0, 1, 0, 0, 0, 0, 0]])"
      ]
     },
     "execution_count": 7,
     "metadata": {},
     "output_type": "execute_result"
    }
   ],
   "source": [
    "from sklearn.feature_extraction.text import CountVectorizer\n",
    "import numpy\n",
    "\n",
    "corpus = frame_sites[['site'+str(r) for r in range(1,10+1)]].values.tolist()\n",
    "corpus_text = list(map(lambda s: ' '.join(s), corpus))\n",
    "\n",
    "vectorizer = CountVectorizer()\n",
    "X = vectorizer.fit_transform(corpus_text)\n",
    "X.toarray()"
   ]
  },
  {
   "cell_type": "code",
   "execution_count": 104,
   "metadata": {},
   "outputs": [
    {
     "data": {
      "text/plain": [
       "[u'10', u'11']"
      ]
     },
     "execution_count": 104,
     "metadata": {},
     "output_type": "execute_result"
    }
   ],
   "source": [
    "vectorizer.get_feature_names()fit_transformcorpus_text = map(to_text, corpus)"
   ]
  },
  {
   "cell_type": "code",
   "execution_count": 123,
   "metadata": {},
   "outputs": [
    {
     "data": {
      "text/plain": [
       "['vk oracle oracle geo.mozilla.org oracle google accounts.google mail.google apis.google plus.google',\n",
       " 'vk google google google 0 0 0 0 0 0',\n",
       " 'vk oracle football.kulichki.ru football.kulichki.ru oracle 0 0 0 0 0',\n",
       " 'meduza.io google oracle google oracle google google mail.google yandex.ru meduza.io',\n",
       " 'meduza.io google oracle 0 0 0 0 0 0 0']"
      ]
     },
     "execution_count": 123,
     "metadata": {},
     "output_type": "execute_result"
    }
   ],
   "source": [
    "corpus_text"
   ]
  },
  {
   "cell_type": "code",
   "execution_count": 102,
   "metadata": {},
   "outputs": [
    {
     "data": {
      "text/plain": [
       "['4 2 2 9 2 1 7 6 8 10',\n",
       " '4 1 1 1 0 0 0 0 0 0',\n",
       " '4 2 5 5 2 0 0 0 0 0',\n",
       " '3 1 2 1 2 1 1 6 11 3',\n",
       " '3 1 2 0 0 0 0 0 0 0']"
      ]
     },
     "execution_count": 102,
     "metadata": {},
     "output_type": "execute_result"
    }
   ],
   "source": [
    "def to_text(l):\n",
    "    li = map(str, l)\n",
    "    return ' '.join(li)\n",
    "    corpus_text = map(to_text, corpus)\n",
    "corpus_text = map(to_text, corpus)"
   ]
  },
  {
   "cell_type": "code",
   "execution_count": 100,
   "metadata": {},
   "outputs": [
    {
     "data": {
      "text/plain": [
       "[4, 2, 2, 9, 2, 1, 7, 6, 8, 10]"
      ]
     },
     "execution_count": 100,
     "metadata": {},
     "output_type": "execute_result"
    }
   ],
   "source": [
    "corpus = frame_sites[['site'+str(r) for r in range(1,10+1)]].values.tolist()\n",
    "\n",
    "corpus[0]"
   ]
  },
  {
   "cell_type": "code",
   "execution_count": 101,
   "metadata": {},
   "outputs": [
    {
     "data": {
      "text/plain": [
       "'4 2 2 9 2 1 7 6 8 10'"
      ]
     },
     "execution_count": 101,
     "metadata": {},
     "output_type": "execute_result"
    }
   ],
   "source": [
    "def to_text(l):\n",
    "    li = map(str, l)\n",
    "    return ' '.join(li)\n",
    "\n",
    "to_text([4, 2, 2, 9, 2, 1, 7, 6, 8, 10])"
   ]
  },
  {
   "cell_type": "code",
   "execution_count": 105,
   "metadata": {},
   "outputs": [
    {
     "name": "stdout",
     "output_type": "stream",
     "text": [
      "[u'10', u'11']\n"
     ]
    }
   ],
   "source": [
    "corpus = ['4 2 2 9 2 1 7 6 8 10',\n",
    " '4 1 1 1 0 0 0 0 0 0',\n",
    " '4 2 5 5 2 0 0 0 0 0',\n",
    " '3 1 2 1 2 1 1 6 11 3',\n",
    " '3 1 2 0 0 0 0 0 0 0']\n",
    "\n",
    "vectorizer = CountVectorizer()\n",
    "X = vectorizer.fit_transform(corpus)\n",
    "print(vectorizer.get_feature_names())"
   ]
  },
  {
   "cell_type": "code",
   "execution_count": null,
   "metadata": {
    "collapsed": true
   },
   "outputs": [],
   "source": []
  },
  {
   "cell_type": "code",
   "execution_count": null,
   "metadata": {
    "collapsed": true
   },
   "outputs": [],
   "source": []
  },
  {
   "cell_type": "code",
   "execution_count": null,
   "metadata": {
    "collapsed": true
   },
   "outputs": [],
   "source": []
  },
  {
   "cell_type": "code",
   "execution_count": null,
   "metadata": {
    "collapsed": true
   },
   "outputs": [],
   "source": []
  },
  {
   "cell_type": "code",
   "execution_count": null,
   "metadata": {
    "collapsed": true
   },
   "outputs": [],
   "source": []
  },
  {
   "cell_type": "code",
   "execution_count": null,
   "metadata": {
    "collapsed": true
   },
   "outputs": [],
   "source": []
  },
  {
   "cell_type": "code",
   "execution_count": null,
   "metadata": {
    "collapsed": true
   },
   "outputs": [],
   "source": []
  },
  {
   "cell_type": "code",
   "execution_count": null,
   "metadata": {
    "collapsed": true
   },
   "outputs": [],
   "source": []
  },
  {
   "cell_type": "code",
   "execution_count": null,
   "metadata": {
    "collapsed": true
   },
   "outputs": [],
   "source": []
  },
  {
   "cell_type": "code",
   "execution_count": null,
   "metadata": {
    "collapsed": true
   },
   "outputs": [],
   "source": []
  },
  {
   "cell_type": "code",
   "execution_count": null,
   "metadata": {
    "collapsed": true
   },
   "outputs": [],
   "source": []
  }
 ],
 "metadata": {
  "kernelspec": {
   "display_name": "Python 3",
   "language": "python",
   "name": "python3"
  },
  "language_info": {
   "codemirror_mode": {
    "name": "ipython",
    "version": 2
   },
   "file_extension": ".py",
   "mimetype": "text/x-python",
   "name": "python",
   "nbconvert_exporter": "python",
   "pygments_lexer": "ipython2",
   "version": "2.7.17"
  }
 },
 "nbformat": 4,
 "nbformat_minor": 2
}
