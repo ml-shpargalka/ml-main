{
 "cells": [
  {
   "cell_type": "code",
   "execution_count": 3,
   "metadata": {},
   "outputs": [
    {
     "name": "stdout",
     "output_type": "stream",
     "text": [
      "\u001b[33mDEPRECATION: Python 2.7 will reach the end of its life on January 1st, 2020. Please upgrade your Python as Python 2.7 won't be maintained after that date. A future version of pip will drop support for Python 2.7. More details about Python 2 support in pip, can be found at https://pip.pypa.io/en/latest/development/release-process/#python-2-support\u001b[0m\n",
      "Looking in indexes: http://rep.msk.mts.ru/artifactory/api/pypi/pypi/simple\n",
      "Collecting gensim\n",
      "\u001b[?25l  Downloading http://rep.msk.mts.ru/artifactory/api/pypi/pypi/packages/ec/db/d0c6edd6e7211e7c47404034ed9dd71032a0a77c6ae8835505f1bd176a55/gensim-3.8.1-cp27-cp27mu-manylinux1_x86_64.whl (24.2MB)\n",
      "\u001b[K     |████████████████████████████████| 24.2MB 29.0MB/s eta 0:00:01\n",
      "\u001b[?25hRequirement already satisfied: six>=1.5.0 in /home/makilins/.local/lib/python2.7/site-packages (from gensim) (1.12.0)\n",
      "Requirement already satisfied: numpy<=1.16.1,>=1.11.3 in /home/makilins/.local/lib/python2.7/site-packages (from gensim) (1.16.1)\n",
      "Collecting smart-open>=1.8.1\n",
      "\u001b[?25l  Downloading http://rep.msk.mts.ru/artifactory/api/pypi/pypi/packages/0c/09/735f2786dfac9bbf39d244ce75c0313d27d4962e71e0774750dc809f2395/smart_open-1.9.0.tar.gz (70kB)\n",
      "\u001b[K     |████████████████████████████████| 71kB 20.0MB/s eta 0:00:01\n",
      "\u001b[?25hRequirement already satisfied: scipy>=0.18.1 in /home/makilins/.local/lib/python2.7/site-packages (from gensim) (1.2.1)\n",
      "Requirement already satisfied: boto>=2.32 in /opt/Anaconda3-4.4.0/lib/python2.7/site-packages (from smart-open>=1.8.1->gensim) (2.48.0)\n",
      "Requirement already satisfied: requests in /opt/Anaconda3-4.4.0/lib/python2.7/site-packages (from smart-open>=1.8.1->gensim) (2.22.0)\n",
      "Collecting boto3\n",
      "\u001b[?25l  Downloading http://rep.msk.mts.ru/artifactory/api/pypi/pypi/packages/7c/13/9a26578e870117dfbc4e511a895d32834aaddb9013411261f5f8eb70c8f7/boto3-1.12.13-py2.py3-none-any.whl (128kB)\n",
      "\u001b[K     |████████████████████████████████| 133kB 21.7MB/s eta 0:00:01\n",
      "\u001b[?25hCollecting bz2file\n",
      "  Downloading http://rep.msk.mts.ru/artifactory/api/pypi/pypi/packages/61/39/122222b5e85cd41c391b68a99ee296584b2a2d1d233e7ee32b4532384f2d/bz2file-0.98.tar.gz\n",
      "Requirement already satisfied: chardet<3.1.0,>=3.0.2 in /opt/Anaconda3-4.4.0/lib/python2.7/site-packages (from requests->smart-open>=1.8.1->gensim) (3.0.4)\n",
      "Requirement already satisfied: idna<2.9,>=2.5 in /opt/Anaconda3-4.4.0/lib/python2.7/site-packages (from requests->smart-open>=1.8.1->gensim) (2.8)\n",
      "Requirement already satisfied: urllib3!=1.25.0,!=1.25.1,<1.26,>=1.21.1 in /opt/Anaconda3-4.4.0/lib/python2.7/site-packages (from requests->smart-open>=1.8.1->gensim) (1.25.7)\n",
      "Requirement already satisfied: certifi>=2017.4.17 in /opt/Anaconda3-4.4.0/lib/python2.7/site-packages (from requests->smart-open>=1.8.1->gensim) (2019.11.28)\n",
      "Collecting jmespath<1.0.0,>=0.7.1\n",
      "  Downloading http://rep.msk.mts.ru/artifactory/api/pypi/pypi/packages/a3/43/1e939e1fcd87b827fe192d0c9fc25b48c5b3368902bfb913de7754b0dc03/jmespath-0.9.5-py2.py3-none-any.whl\n",
      "Collecting botocore<1.16.0,>=1.15.13\n",
      "\u001b[?25l  Downloading http://rep.msk.mts.ru/artifactory/api/pypi/pypi/packages/a6/ca/cd7cac60b830ec3e6b1f9ff924421a11e14a4c1cb1960b22c20e9a7c62e6/botocore-1.15.13-py2.py3-none-any.whl (5.9MB)\n",
      "\u001b[K     |████████████████████████████████| 5.9MB 21.3MB/s eta 0:00:01\n",
      "\u001b[?25hCollecting s3transfer<0.4.0,>=0.3.0\n",
      "\u001b[?25l  Downloading http://rep.msk.mts.ru/artifactory/api/pypi/pypi/packages/69/79/e6afb3d8b0b4e96cefbdc690f741d7dd24547ff1f94240c997a26fa908d3/s3transfer-0.3.3-py2.py3-none-any.whl (69kB)\n",
      "\u001b[K     |████████████████████████████████| 71kB 13.5MB/s eta 0:00:01\n",
      "\u001b[?25hRequirement already satisfied: python-dateutil<3.0.0,>=2.1 in /home/makilins/.local/lib/python2.7/site-packages (from botocore<1.16.0,>=1.15.13->boto3->smart-open>=1.8.1->gensim) (2.8.0)\n",
      "Requirement already satisfied: docutils<0.16,>=0.10 in /opt/Anaconda3-4.4.0/lib/python2.7/site-packages (from botocore<1.16.0,>=1.15.13->boto3->smart-open>=1.8.1->gensim) (0.14)\n",
      "Requirement already satisfied: futures<4.0.0,>=2.2.0; python_version == \"2.7\" in /home/makilins/.local/lib/python2.7/site-packages (from s3transfer<0.4.0,>=0.3.0->boto3->smart-open>=1.8.1->gensim) (3.2.0)\n",
      "Building wheels for collected packages: smart-open, bz2file\n",
      "  Building wheel for smart-open (setup.py) ... \u001b[?25ldone\n",
      "\u001b[?25h  Created wheel for smart-open: filename=smart_open-1.9.0-cp27-none-any.whl size=73095 sha256=cc3c4dbf3f9e4a70ed1f67422854bbcccff054d16ed65c305b2051743f73bdf1\n",
      "  Stored in directory: /home/makilins/.cache/pip/wheels/f9/16/27/09545f427c07feec01dbc768e64117b1b20a37f1c72887ac7c\n",
      "  Building wheel for bz2file (setup.py) ... \u001b[?25ldone\n",
      "\u001b[?25h  Created wheel for bz2file: filename=bz2file-0.98-cp27-none-any.whl size=6884 sha256=404515e46771b7930c45cb899d03f3c96c902b9dd57791601e68f73706278292\n",
      "  Stored in directory: /home/makilins/.cache/pip/wheels/c5/c9/d1/d56e3242b60f15276ebf57f2edc0d0e075082e30783cdc5f29\n",
      "Successfully built smart-open bz2file\n",
      "Installing collected packages: jmespath, botocore, s3transfer, boto3, bz2file, smart-open, gensim\n",
      "Successfully installed boto3-1.12.13 botocore-1.15.13 bz2file-0.98 gensim-3.8.1 jmespath-0.9.5 s3transfer-0.3.3 smart-open-1.9.0\n"
     ]
    }
   ],
   "source": [
    "!pip install gensim --user"
   ]
  },
  {
   "cell_type": "code",
   "execution_count": 1,
   "metadata": {
    "collapsed": true
   },
   "outputs": [],
   "source": [
    "PATH_TO_DATA = 'capstone_user_identification'"
   ]
  },
  {
   "cell_type": "code",
   "execution_count": 178,
   "metadata": {},
   "outputs": [
    {
     "data": {
      "text/html": [
       "<div>\n",
       "<style scoped>\n",
       "    .dataframe tbody tr th:only-of-type {\n",
       "        vertical-align: middle;\n",
       "    }\n",
       "\n",
       "    .dataframe tbody tr th {\n",
       "        vertical-align: top;\n",
       "    }\n",
       "\n",
       "    .dataframe thead th {\n",
       "        text-align: right;\n",
       "    }\n",
       "</style>\n",
       "<table border=\"1\" class=\"dataframe\">\n",
       "  <thead>\n",
       "    <tr style=\"text-align: right;\">\n",
       "      <th></th>\n",
       "      <th>session_id</th>\n",
       "      <th>user_id</th>\n",
       "      <th>site1</th>\n",
       "      <th>site2</th>\n",
       "      <th>site3</th>\n",
       "      <th>site4</th>\n",
       "      <th>site5</th>\n",
       "      <th>site6</th>\n",
       "      <th>site7</th>\n",
       "      <th>site8</th>\n",
       "      <th>site9</th>\n",
       "      <th>site10</th>\n",
       "    </tr>\n",
       "  </thead>\n",
       "  <tbody>\n",
       "    <tr>\n",
       "      <th>0</th>\n",
       "      <td>0</td>\n",
       "      <td>1</td>\n",
       "      <td>armmf.adobe</td>\n",
       "      <td>armmf.adobe</td>\n",
       "      <td>armdl.adobe</td>\n",
       "      <td>javadl-esd-secure.oracle</td>\n",
       "      <td>javadl-esd-secure.oracle</td>\n",
       "      <td>oracle</td>\n",
       "      <td>apex.oracle</td>\n",
       "      <td>oracle</td>\n",
       "      <td>gtssl-ocsp.geotrust</td>\n",
       "      <td>gtssl-ocsp.geotrust</td>\n",
       "    </tr>\n",
       "    <tr>\n",
       "      <th>1</th>\n",
       "      <td>1</td>\n",
       "      <td>1</td>\n",
       "      <td>gtglobal-ocsp.geotrust</td>\n",
       "      <td>clients1.google</td>\n",
       "      <td>squid-cache.org</td>\n",
       "      <td>geo.mozilla.org</td>\n",
       "      <td>sb-ssl.google</td>\n",
       "      <td>safebrowsing-cache.google</td>\n",
       "      <td>safebrowsing.clients.google</td>\n",
       "      <td>safebrowsing-cache.google</td>\n",
       "      <td>ocsp.thawte</td>\n",
       "      <td>ocsp.verisign</td>\n",
       "    </tr>\n",
       "    <tr>\n",
       "      <th>2</th>\n",
       "      <td>2</td>\n",
       "      <td>1</td>\n",
       "      <td>ocsp.digicert</td>\n",
       "      <td>safebrowsing.clients.google</td>\n",
       "      <td>safebrowsing-cache.google</td>\n",
       "      <td>safebrowsing.clients.google</td>\n",
       "      <td>safebrowsing-cache.google</td>\n",
       "      <td>safebrowsing-cache.google</td>\n",
       "      <td>javadl-esd-secure.oracle</td>\n",
       "      <td>javadl-esd-secure.oracle</td>\n",
       "      <td>oracle</td>\n",
       "      <td>oracle</td>\n",
       "    </tr>\n",
       "    <tr>\n",
       "      <th>3</th>\n",
       "      <td>3</td>\n",
       "      <td>1</td>\n",
       "      <td>apex.oracle</td>\n",
       "      <td>oracle</td>\n",
       "      <td>oracle</td>\n",
       "      <td>apex.oracle</td>\n",
       "      <td>javadl-esd-secure.oracle</td>\n",
       "      <td>oracle</td>\n",
       "      <td>apex.oracle</td>\n",
       "      <td>javadl-esd-secure.oracle</td>\n",
       "      <td>javadl-esd-secure.oracle</td>\n",
       "      <td>go.microsoft</td>\n",
       "    </tr>\n",
       "    <tr>\n",
       "      <th>4</th>\n",
       "      <td>4</td>\n",
       "      <td>1</td>\n",
       "      <td>windows.microsoft</td>\n",
       "      <td>ajax.microsoft</td>\n",
       "      <td>windows.microsoft</td>\n",
       "      <td>res1.windows.microsoft</td>\n",
       "      <td>res2.windows.microsoft</td>\n",
       "      <td>js.microsoft</td>\n",
       "      <td>js.microsoft</td>\n",
       "      <td>res1.windows.microsoft</td>\n",
       "      <td>bing</td>\n",
       "      <td>go.microsoft</td>\n",
       "    </tr>\n",
       "  </tbody>\n",
       "</table>\n",
       "</div>"
      ],
      "text/plain": [
       "   session_id  user_id                   site1                        site2  \\\n",
       "0           0        1             armmf.adobe                  armmf.adobe   \n",
       "1           1        1  gtglobal-ocsp.geotrust              clients1.google   \n",
       "2           2        1           ocsp.digicert  safebrowsing.clients.google   \n",
       "3           3        1             apex.oracle                       oracle   \n",
       "4           4        1       windows.microsoft               ajax.microsoft   \n",
       "\n",
       "                       site3                        site4  \\\n",
       "0                armdl.adobe     javadl-esd-secure.oracle   \n",
       "1            squid-cache.org              geo.mozilla.org   \n",
       "2  safebrowsing-cache.google  safebrowsing.clients.google   \n",
       "3                     oracle                  apex.oracle   \n",
       "4          windows.microsoft       res1.windows.microsoft   \n",
       "\n",
       "                       site5                      site6  \\\n",
       "0   javadl-esd-secure.oracle                     oracle   \n",
       "1              sb-ssl.google  safebrowsing-cache.google   \n",
       "2  safebrowsing-cache.google  safebrowsing-cache.google   \n",
       "3   javadl-esd-secure.oracle                     oracle   \n",
       "4     res2.windows.microsoft               js.microsoft   \n",
       "\n",
       "                         site7                      site8  \\\n",
       "0                  apex.oracle                     oracle   \n",
       "1  safebrowsing.clients.google  safebrowsing-cache.google   \n",
       "2     javadl-esd-secure.oracle   javadl-esd-secure.oracle   \n",
       "3                  apex.oracle   javadl-esd-secure.oracle   \n",
       "4                 js.microsoft     res1.windows.microsoft   \n",
       "\n",
       "                      site9               site10  \n",
       "0       gtssl-ocsp.geotrust  gtssl-ocsp.geotrust  \n",
       "1               ocsp.thawte        ocsp.verisign  \n",
       "2                    oracle               oracle  \n",
       "3  javadl-esd-secure.oracle         go.microsoft  \n",
       "4                      bing         go.microsoft  "
      ]
     },
     "execution_count": 178,
     "metadata": {},
     "output_type": "execute_result"
    }
   ],
   "source": [
    "import numpy as np\n",
    "import pandas as pd\n",
    "import os\n",
    "\n",
    "pdf = pd.read_csv(os.path.join(PATH_TO_DATA, 'train_data_10users.csv'))\n",
    "pdf.head()"
   ]
  },
  {
   "cell_type": "code",
   "execution_count": 3,
   "metadata": {},
   "outputs": [
    {
     "data": {
      "text/plain": [
       "['armmf.adobe',\n",
       " 'armmf.adobe',\n",
       " 'armdl.adobe',\n",
       " 'javadl-esd-secure.oracle',\n",
       " 'javadl-esd-secure.oracle',\n",
       " 'oracle',\n",
       " 'apex.oracle',\n",
       " 'oracle',\n",
       " 'gtssl-ocsp.geotrust',\n",
       " 'gtssl-ocsp.geotrust']"
      ]
     },
     "execution_count": 3,
     "metadata": {},
     "output_type": "execute_result"
    }
   ],
   "source": [
    "corpus = pdf[['site'+str(r) for r in range(1,10+1)]].values.tolist()\n",
    "corpus[0]"
   ]
  },
  {
   "cell_type": "code",
   "execution_count": 6,
   "metadata": {
    "collapsed": true
   },
   "outputs": [],
   "source": [
    "from gensim.models import word2vec"
   ]
  },
  {
   "cell_type": "code",
   "execution_count": 25,
   "metadata": {
    "collapsed": true
   },
   "outputs": [],
   "source": [
    "\"\"\"\n",
    "window - длина окна = максимальная длина между текущим словом и предсказываемым 3*2 = 6\n",
    "workers - распараллеливание\n",
    "size - размерность выходного вектора\n",
    "\"\"\"\n",
    "\n",
    "model = word2vec.Word2Vec(corpus, size=300, window=3, workers=4)"
   ]
  },
  {
   "cell_type": "code",
   "execution_count": 26,
   "metadata": {},
   "outputs": [
    {
     "name": "stderr",
     "output_type": "stream",
     "text": [
      "/opt/Anaconda3-4.4.0/lib/python2.7/site-packages/ipykernel_launcher.py:6: DeprecationWarning: Call to deprecated `syn0` (Attribute will be removed in 4.0.0, use self.vectors instead).\n",
      "  \n"
     ]
    }
   ],
   "source": [
    "\"\"\"\n",
    "model.wv.index2word - список слов в корпусе\n",
    "model.wv.syn0 - список векторов\n",
    "\"\"\"\n",
    "\n",
    "w2v = dict(zip(model.wv.index2word, model.wv.syn0))"
   ]
  },
  {
   "cell_type": "code",
   "execution_count": 27,
   "metadata": {},
   "outputs": [
    {
     "data": {
      "text/plain": [
       "-0.0016364098"
      ]
     },
     "execution_count": 27,
     "metadata": {},
     "output_type": "execute_result"
    }
   ],
   "source": [
    "# для каждого слова посчитаем средний вектор\n",
    "\n",
    "w2v_avg = {}\n",
    "\n",
    "for w in w2v:\n",
    "    w2v_avg[w] = np.mean(w2v[w])\n",
    "    \n",
    "\n",
    "w2v_avg['9zouxfza1h.s.ad6media.fr']"
   ]
  },
  {
   "cell_type": "code",
   "execution_count": 15,
   "metadata": {},
   "outputs": [
    {
     "data": {
      "text/plain": [
       "0.0010619363"
      ]
     },
     "execution_count": 15,
     "metadata": {},
     "output_type": "execute_result"
    }
   ],
   "source": [
    "w2v_avg['armmf.adobe']"
   ]
  },
  {
   "cell_type": "code",
   "execution_count": 179,
   "metadata": {},
   "outputs": [
    {
     "data": {
      "text/html": [
       "<div>\n",
       "<style scoped>\n",
       "    .dataframe tbody tr th:only-of-type {\n",
       "        vertical-align: middle;\n",
       "    }\n",
       "\n",
       "    .dataframe tbody tr th {\n",
       "        vertical-align: top;\n",
       "    }\n",
       "\n",
       "    .dataframe thead th {\n",
       "        text-align: right;\n",
       "    }\n",
       "</style>\n",
       "<table border=\"1\" class=\"dataframe\">\n",
       "  <thead>\n",
       "    <tr style=\"text-align: right;\">\n",
       "      <th></th>\n",
       "      <th>session_id</th>\n",
       "      <th>user_id</th>\n",
       "      <th>site1</th>\n",
       "      <th>site2</th>\n",
       "      <th>site3</th>\n",
       "      <th>site4</th>\n",
       "      <th>site5</th>\n",
       "      <th>site6</th>\n",
       "      <th>site7</th>\n",
       "      <th>site8</th>\n",
       "      <th>site9</th>\n",
       "      <th>site10</th>\n",
       "    </tr>\n",
       "  </thead>\n",
       "  <tbody>\n",
       "    <tr>\n",
       "      <th>0</th>\n",
       "      <td>0</td>\n",
       "      <td>1</td>\n",
       "      <td>[-0.4749068, -0.4874621, -0.46100643, -0.21868...</td>\n",
       "      <td>[-0.4749068, -0.4874621, -0.46100643, -0.21868...</td>\n",
       "      <td>[-0.2537513, -0.15559852, -0.12163722, -0.0412...</td>\n",
       "      <td>[-0.5150304, -0.24783584, -0.22485872, -0.1471...</td>\n",
       "      <td>[-0.5150304, -0.24783584, -0.22485872, -0.1471...</td>\n",
       "      <td>[-0.8556469, 0.028368898, 0.08195255, 0.158786...</td>\n",
       "      <td>[-0.49214545, -0.032901812, 0.008897057, 0.054...</td>\n",
       "      <td>[-0.8556469, 0.028368898, 0.08195255, 0.158786...</td>\n",
       "      <td>[-0.30773747, -0.109468415, -0.2506138, -0.202...</td>\n",
       "      <td>[-0.30773747, -0.109468415, -0.2506138, -0.202...</td>\n",
       "    </tr>\n",
       "    <tr>\n",
       "      <th>1</th>\n",
       "      <td>1</td>\n",
       "      <td>1</td>\n",
       "      <td>[-0.22633971, -0.0928885, -0.24093513, -0.1381...</td>\n",
       "      <td>[-0.13731904, -0.03953212, -0.27025098, -0.152...</td>\n",
       "      <td>[-0.062134184, -0.09373012, -0.12133034, 0.027...</td>\n",
       "      <td>[-0.06960947, -0.05322903, -0.07262034, -0.002...</td>\n",
       "      <td>[-0.041435927, -0.042279895, -0.043100335, -0....</td>\n",
       "      <td>[-0.088824645, -0.14135845, -0.011649601, 0.17...</td>\n",
       "      <td>[-0.08384353, -0.124307275, 0.0059213117, 0.09...</td>\n",
       "      <td>[-0.088824645, -0.14135845, -0.011649601, 0.17...</td>\n",
       "      <td>[-0.16387583, -0.11379735, -0.16969353, -0.126...</td>\n",
       "      <td>[-0.17193182, -0.11082508, -0.05160196, -0.082...</td>\n",
       "    </tr>\n",
       "    <tr>\n",
       "      <th>2</th>\n",
       "      <td>2</td>\n",
       "      <td>1</td>\n",
       "      <td>[-0.1404533, -0.07368097, -0.10539132, -0.1424...</td>\n",
       "      <td>[-0.08384353, -0.124307275, 0.0059213117, 0.09...</td>\n",
       "      <td>[-0.088824645, -0.14135845, -0.011649601, 0.17...</td>\n",
       "      <td>[-0.08384353, -0.124307275, 0.0059213117, 0.09...</td>\n",
       "      <td>[-0.088824645, -0.14135845, -0.011649601, 0.17...</td>\n",
       "      <td>[-0.088824645, -0.14135845, -0.011649601, 0.17...</td>\n",
       "      <td>[-0.5150304, -0.24783584, -0.22485872, -0.1471...</td>\n",
       "      <td>[-0.5150304, -0.24783584, -0.22485872, -0.1471...</td>\n",
       "      <td>[-0.8556469, 0.028368898, 0.08195255, 0.158786...</td>\n",
       "      <td>[-0.8556469, 0.028368898, 0.08195255, 0.158786...</td>\n",
       "    </tr>\n",
       "    <tr>\n",
       "      <th>3</th>\n",
       "      <td>3</td>\n",
       "      <td>1</td>\n",
       "      <td>[-0.49214545, -0.032901812, 0.008897057, 0.054...</td>\n",
       "      <td>[-0.8556469, 0.028368898, 0.08195255, 0.158786...</td>\n",
       "      <td>[-0.8556469, 0.028368898, 0.08195255, 0.158786...</td>\n",
       "      <td>[-0.49214545, -0.032901812, 0.008897057, 0.054...</td>\n",
       "      <td>[-0.5150304, -0.24783584, -0.22485872, -0.1471...</td>\n",
       "      <td>[-0.8556469, 0.028368898, 0.08195255, 0.158786...</td>\n",
       "      <td>[-0.49214545, -0.032901812, 0.008897057, 0.054...</td>\n",
       "      <td>[-0.5150304, -0.24783584, -0.22485872, -0.1471...</td>\n",
       "      <td>[-0.5150304, -0.24783584, -0.22485872, -0.1471...</td>\n",
       "      <td>[-0.38584483, -0.0960047, -0.24836135, 0.01628...</td>\n",
       "    </tr>\n",
       "    <tr>\n",
       "      <th>4</th>\n",
       "      <td>4</td>\n",
       "      <td>1</td>\n",
       "      <td>[-0.27813432, -0.053093437, -0.16285785, 0.101...</td>\n",
       "      <td>[-0.200469, -0.051603667, -0.101219594, 0.0933...</td>\n",
       "      <td>[-0.27813432, -0.053093437, -0.16285785, 0.101...</td>\n",
       "      <td>[-0.26544327, -0.056303106, -0.16320175, 0.129...</td>\n",
       "      <td>[-0.28161076, -0.051825073, -0.12448629, 0.117...</td>\n",
       "      <td>[-0.2670824, -0.033423018, -0.14920586, 0.1031...</td>\n",
       "      <td>[-0.2670824, -0.033423018, -0.14920586, 0.1031...</td>\n",
       "      <td>[-0.26544327, -0.056303106, -0.16320175, 0.129...</td>\n",
       "      <td>[-0.22977471, -0.18269482, -0.28324145, 0.3318...</td>\n",
       "      <td>[-0.38584483, -0.0960047, -0.24836135, 0.01628...</td>\n",
       "    </tr>\n",
       "  </tbody>\n",
       "</table>\n",
       "</div>"
      ],
      "text/plain": [
       "   session_id  user_id                                              site1  \\\n",
       "0           0        1  [-0.4749068, -0.4874621, -0.46100643, -0.21868...   \n",
       "1           1        1  [-0.22633971, -0.0928885, -0.24093513, -0.1381...   \n",
       "2           2        1  [-0.1404533, -0.07368097, -0.10539132, -0.1424...   \n",
       "3           3        1  [-0.49214545, -0.032901812, 0.008897057, 0.054...   \n",
       "4           4        1  [-0.27813432, -0.053093437, -0.16285785, 0.101...   \n",
       "\n",
       "                                               site2  \\\n",
       "0  [-0.4749068, -0.4874621, -0.46100643, -0.21868...   \n",
       "1  [-0.13731904, -0.03953212, -0.27025098, -0.152...   \n",
       "2  [-0.08384353, -0.124307275, 0.0059213117, 0.09...   \n",
       "3  [-0.8556469, 0.028368898, 0.08195255, 0.158786...   \n",
       "4  [-0.200469, -0.051603667, -0.101219594, 0.0933...   \n",
       "\n",
       "                                               site3  \\\n",
       "0  [-0.2537513, -0.15559852, -0.12163722, -0.0412...   \n",
       "1  [-0.062134184, -0.09373012, -0.12133034, 0.027...   \n",
       "2  [-0.088824645, -0.14135845, -0.011649601, 0.17...   \n",
       "3  [-0.8556469, 0.028368898, 0.08195255, 0.158786...   \n",
       "4  [-0.27813432, -0.053093437, -0.16285785, 0.101...   \n",
       "\n",
       "                                               site4  \\\n",
       "0  [-0.5150304, -0.24783584, -0.22485872, -0.1471...   \n",
       "1  [-0.06960947, -0.05322903, -0.07262034, -0.002...   \n",
       "2  [-0.08384353, -0.124307275, 0.0059213117, 0.09...   \n",
       "3  [-0.49214545, -0.032901812, 0.008897057, 0.054...   \n",
       "4  [-0.26544327, -0.056303106, -0.16320175, 0.129...   \n",
       "\n",
       "                                               site5  \\\n",
       "0  [-0.5150304, -0.24783584, -0.22485872, -0.1471...   \n",
       "1  [-0.041435927, -0.042279895, -0.043100335, -0....   \n",
       "2  [-0.088824645, -0.14135845, -0.011649601, 0.17...   \n",
       "3  [-0.5150304, -0.24783584, -0.22485872, -0.1471...   \n",
       "4  [-0.28161076, -0.051825073, -0.12448629, 0.117...   \n",
       "\n",
       "                                               site6  \\\n",
       "0  [-0.8556469, 0.028368898, 0.08195255, 0.158786...   \n",
       "1  [-0.088824645, -0.14135845, -0.011649601, 0.17...   \n",
       "2  [-0.088824645, -0.14135845, -0.011649601, 0.17...   \n",
       "3  [-0.8556469, 0.028368898, 0.08195255, 0.158786...   \n",
       "4  [-0.2670824, -0.033423018, -0.14920586, 0.1031...   \n",
       "\n",
       "                                               site7  \\\n",
       "0  [-0.49214545, -0.032901812, 0.008897057, 0.054...   \n",
       "1  [-0.08384353, -0.124307275, 0.0059213117, 0.09...   \n",
       "2  [-0.5150304, -0.24783584, -0.22485872, -0.1471...   \n",
       "3  [-0.49214545, -0.032901812, 0.008897057, 0.054...   \n",
       "4  [-0.2670824, -0.033423018, -0.14920586, 0.1031...   \n",
       "\n",
       "                                               site8  \\\n",
       "0  [-0.8556469, 0.028368898, 0.08195255, 0.158786...   \n",
       "1  [-0.088824645, -0.14135845, -0.011649601, 0.17...   \n",
       "2  [-0.5150304, -0.24783584, -0.22485872, -0.1471...   \n",
       "3  [-0.5150304, -0.24783584, -0.22485872, -0.1471...   \n",
       "4  [-0.26544327, -0.056303106, -0.16320175, 0.129...   \n",
       "\n",
       "                                               site9  \\\n",
       "0  [-0.30773747, -0.109468415, -0.2506138, -0.202...   \n",
       "1  [-0.16387583, -0.11379735, -0.16969353, -0.126...   \n",
       "2  [-0.8556469, 0.028368898, 0.08195255, 0.158786...   \n",
       "3  [-0.5150304, -0.24783584, -0.22485872, -0.1471...   \n",
       "4  [-0.22977471, -0.18269482, -0.28324145, 0.3318...   \n",
       "\n",
       "                                              site10  \n",
       "0  [-0.30773747, -0.109468415, -0.2506138, -0.202...  \n",
       "1  [-0.17193182, -0.11082508, -0.05160196, -0.082...  \n",
       "2  [-0.8556469, 0.028368898, 0.08195255, 0.158786...  \n",
       "3  [-0.38584483, -0.0960047, -0.24836135, 0.01628...  \n",
       "4  [-0.38584483, -0.0960047, -0.24836135, 0.01628...  "
      ]
     },
     "execution_count": 179,
     "metadata": {},
     "output_type": "execute_result"
    }
   ],
   "source": [
    "for col in ['site'+str(r) for r in range(1,10+1)]:\n",
    "    pdf[col] = pdf[col].map(w2v)\n",
    "    \n",
    "\n",
    "pdf.head()"
   ]
  },
  {
   "cell_type": "code",
   "execution_count": 180,
   "metadata": {
    "collapsed": true
   },
   "outputs": [],
   "source": [
    "pdf = pdf.fillna(0)   "
   ]
  },
  {
   "cell_type": "code",
   "execution_count": 99,
   "metadata": {},
   "outputs": [
    {
     "data": {
      "text/plain": [
       "[[1, 2, 3]]"
      ]
     },
     "execution_count": 99,
     "metadata": {},
     "output_type": "execute_result"
    }
   ],
   "source": [
    "s = filter(lambda r: type(r) == list, [[1,2,3], 0])\n",
    "s"
   ]
  },
  {
   "cell_type": "code",
   "execution_count": 13,
   "metadata": {},
   "outputs": [
    {
     "name": "stdout",
     "output_type": "stream",
     "text": [
      "(1, 3)\n",
      "(2, 4)\n"
     ]
    }
   ],
   "source": [
    "a = [1, 2]\n",
    "b = [3, 4]\n",
    "\n",
    "from itertools import izip_longest, imap\n",
    "\n",
    "for t in zip(a, b):\n",
    "    print(t)"
   ]
  },
  {
   "cell_type": "code",
   "execution_count": 58,
   "metadata": {},
   "outputs": [
    {
     "name": "stdout",
     "output_type": "stream",
     "text": [
      "(1, 3)\n",
      "(2, 4)\n"
     ]
    }
   ],
   "source": [
    "for t in izip_longest(*[a,b]):\n",
    "    print(t)"
   ]
  },
  {
   "cell_type": "code",
   "execution_count": 181,
   "metadata": {},
   "outputs": [],
   "source": [
    "import numpy\n",
    "\n",
    "def avg_vector(row):\n",
    "    sites = filter(lambda r: type(r) == numpy.ndarray, [row['site'+str(r)] for r in range(1,10+1)])\n",
    "\n",
    "    def avg(x):\n",
    "        x = [i for i in x if i is not None]\n",
    "        return sum(x, 0.0) / len(x)\n",
    "    \n",
    "    return map(avg, zip(*sites))"
   ]
  },
  {
   "cell_type": "code",
   "execution_count": 134,
   "metadata": {},
   "outputs": [
    {
     "data": {
      "text/plain": [
       "[[1, 2], 0]"
      ]
     },
     "execution_count": 134,
     "metadata": {},
     "output_type": "execute_result"
    }
   ],
   "source": [
    "row = {\n",
    "    'site1': [1,2],\n",
    "    'site2': 0,\n",
    "    'site3': [10,40]\n",
    "}\n",
    "avg_vector(row)"
   ]
  },
  {
   "cell_type": "code",
   "execution_count": 144,
   "metadata": {},
   "outputs": [
    {
     "data": {
      "text/plain": [
       "session_id                                                     23\n",
       "user_id                                                         1\n",
       "site1           [-0.41874257, -0.21255241, -0.07673472, 0.1211...\n",
       "site2           [-0.41874257, -0.21255241, -0.07673472, 0.1211...\n",
       "site3           [0.10105563, -0.09243709, -0.18856826, 0.06079...\n",
       "site4           [-0.043271843, -0.049936265, -0.026094515, 0.0...\n",
       "site5           [-0.04680011, -0.09141308, -0.09010201, 0.0834...\n",
       "site6           [-0.045348644, -0.08613527, -0.069464706, 0.09...\n",
       "site7           [-0.03874962, -0.060218673, -0.046243243, 0.06...\n",
       "site8           [-0.03497495, -0.11444219, -0.12921529, 0.1226...\n",
       "site9           [-0.03630032, -0.06636506, -0.044521198, 0.067...\n",
       "site10                                                          0\n",
       "sites_vector                                                   []\n",
       "Name: 23, dtype: object"
      ]
     },
     "execution_count": 144,
     "metadata": {},
     "output_type": "execute_result"
    }
   ],
   "source": [
    "pdf.loc[23]"
   ]
  },
  {
   "cell_type": "code",
   "execution_count": 182,
   "metadata": {},
   "outputs": [
    {
     "data": {
      "text/plain": [
       "0    [-0.5052539885044098, -0.1821295265108347, -0....\n",
       "1    [-0.11341388076543808, -0.09533062689006329, -...\n",
       "2    [-0.3315968871116638, -0.11853047609329223, -0...\n",
       "3    [-0.59743130505085, -0.08531109802424908, -0.0...\n",
       "4    [-0.2719019249081612, -0.06677673868834973, -0...\n",
       "Name: sites_vector, dtype: object"
      ]
     },
     "execution_count": 182,
     "metadata": {},
     "output_type": "execute_result"
    }
   ],
   "source": [
    "pdf['sites_vector'] = pdf.apply(avg_vector, axis = 1)\n",
    "pdf['sites_vector'].head()"
   ]
  },
  {
   "cell_type": "code",
   "execution_count": 183,
   "metadata": {},
   "outputs": [
    {
     "data": {
      "text/html": [
       "<div>\n",
       "<style scoped>\n",
       "    .dataframe tbody tr th:only-of-type {\n",
       "        vertical-align: middle;\n",
       "    }\n",
       "\n",
       "    .dataframe tbody tr th {\n",
       "        vertical-align: top;\n",
       "    }\n",
       "\n",
       "    .dataframe thead th {\n",
       "        text-align: right;\n",
       "    }\n",
       "</style>\n",
       "<table border=\"1\" class=\"dataframe\">\n",
       "  <thead>\n",
       "    <tr style=\"text-align: right;\">\n",
       "      <th></th>\n",
       "      <th>vec1</th>\n",
       "      <th>vec2</th>\n",
       "      <th>vec3</th>\n",
       "      <th>vec4</th>\n",
       "      <th>vec5</th>\n",
       "      <th>vec6</th>\n",
       "      <th>vec7</th>\n",
       "      <th>vec8</th>\n",
       "      <th>vec9</th>\n",
       "      <th>vec10</th>\n",
       "      <th>...</th>\n",
       "      <th>vec291</th>\n",
       "      <th>vec292</th>\n",
       "      <th>vec293</th>\n",
       "      <th>vec294</th>\n",
       "      <th>vec295</th>\n",
       "      <th>vec296</th>\n",
       "      <th>vec297</th>\n",
       "      <th>vec298</th>\n",
       "      <th>vec299</th>\n",
       "      <th>vec300</th>\n",
       "    </tr>\n",
       "  </thead>\n",
       "  <tbody>\n",
       "    <tr>\n",
       "      <th>0</th>\n",
       "      <td>-0.505254</td>\n",
       "      <td>-0.182130</td>\n",
       "      <td>-0.182179</td>\n",
       "      <td>-0.080517</td>\n",
       "      <td>0.131558</td>\n",
       "      <td>-0.222450</td>\n",
       "      <td>0.184205</td>\n",
       "      <td>-0.081785</td>\n",
       "      <td>-0.048301</td>\n",
       "      <td>-0.417694</td>\n",
       "      <td>...</td>\n",
       "      <td>-0.121282</td>\n",
       "      <td>-0.078220</td>\n",
       "      <td>-0.200078</td>\n",
       "      <td>-0.199189</td>\n",
       "      <td>-0.377249</td>\n",
       "      <td>-0.283721</td>\n",
       "      <td>-0.404355</td>\n",
       "      <td>-0.185296</td>\n",
       "      <td>-0.134085</td>\n",
       "      <td>0.386315</td>\n",
       "    </tr>\n",
       "    <tr>\n",
       "      <th>1</th>\n",
       "      <td>-0.113414</td>\n",
       "      <td>-0.095331</td>\n",
       "      <td>-0.098691</td>\n",
       "      <td>-0.003030</td>\n",
       "      <td>0.164388</td>\n",
       "      <td>0.039337</td>\n",
       "      <td>-0.039631</td>\n",
       "      <td>-0.287422</td>\n",
       "      <td>0.184435</td>\n",
       "      <td>-0.295750</td>\n",
       "      <td>...</td>\n",
       "      <td>-0.103980</td>\n",
       "      <td>-0.248182</td>\n",
       "      <td>-0.244793</td>\n",
       "      <td>-0.249206</td>\n",
       "      <td>-0.249003</td>\n",
       "      <td>-0.200706</td>\n",
       "      <td>-0.071784</td>\n",
       "      <td>-0.092761</td>\n",
       "      <td>-0.046702</td>\n",
       "      <td>0.042452</td>\n",
       "    </tr>\n",
       "    <tr>\n",
       "      <th>2</th>\n",
       "      <td>-0.331597</td>\n",
       "      <td>-0.118530</td>\n",
       "      <td>-0.041431</td>\n",
       "      <td>0.059621</td>\n",
       "      <td>0.179973</td>\n",
       "      <td>-0.113783</td>\n",
       "      <td>0.058469</td>\n",
       "      <td>-0.280090</td>\n",
       "      <td>0.135843</td>\n",
       "      <td>-0.458282</td>\n",
       "      <td>...</td>\n",
       "      <td>-0.288484</td>\n",
       "      <td>-0.225221</td>\n",
       "      <td>-0.407367</td>\n",
       "      <td>-0.409702</td>\n",
       "      <td>-0.239298</td>\n",
       "      <td>-0.223382</td>\n",
       "      <td>-0.223002</td>\n",
       "      <td>-0.164918</td>\n",
       "      <td>-0.222416</td>\n",
       "      <td>0.168206</td>\n",
       "    </tr>\n",
       "    <tr>\n",
       "      <th>3</th>\n",
       "      <td>-0.597431</td>\n",
       "      <td>-0.085311</td>\n",
       "      <td>-0.065039</td>\n",
       "      <td>0.021580</td>\n",
       "      <td>0.004428</td>\n",
       "      <td>-0.291394</td>\n",
       "      <td>0.276109</td>\n",
       "      <td>-0.034920</td>\n",
       "      <td>-0.070244</td>\n",
       "      <td>-0.398463</td>\n",
       "      <td>...</td>\n",
       "      <td>-0.260878</td>\n",
       "      <td>-0.030368</td>\n",
       "      <td>-0.336718</td>\n",
       "      <td>-0.279815</td>\n",
       "      <td>-0.248160</td>\n",
       "      <td>-0.154243</td>\n",
       "      <td>-0.367584</td>\n",
       "      <td>-0.223831</td>\n",
       "      <td>-0.115881</td>\n",
       "      <td>0.390873</td>\n",
       "    </tr>\n",
       "    <tr>\n",
       "      <th>4</th>\n",
       "      <td>-0.271902</td>\n",
       "      <td>-0.066777</td>\n",
       "      <td>-0.170784</td>\n",
       "      <td>0.122584</td>\n",
       "      <td>0.086368</td>\n",
       "      <td>-0.320087</td>\n",
       "      <td>0.237362</td>\n",
       "      <td>-0.003428</td>\n",
       "      <td>-0.254475</td>\n",
       "      <td>-0.347864</td>\n",
       "      <td>...</td>\n",
       "      <td>-0.314552</td>\n",
       "      <td>0.035513</td>\n",
       "      <td>-0.213958</td>\n",
       "      <td>-0.005086</td>\n",
       "      <td>-0.200753</td>\n",
       "      <td>0.048327</td>\n",
       "      <td>-0.046054</td>\n",
       "      <td>-0.287842</td>\n",
       "      <td>0.107349</td>\n",
       "      <td>0.017630</td>\n",
       "    </tr>\n",
       "  </tbody>\n",
       "</table>\n",
       "<p>5 rows × 300 columns</p>\n",
       "</div>"
      ],
      "text/plain": [
       "       vec1      vec2      vec3      vec4      vec5      vec6      vec7  \\\n",
       "0 -0.505254 -0.182130 -0.182179 -0.080517  0.131558 -0.222450  0.184205   \n",
       "1 -0.113414 -0.095331 -0.098691 -0.003030  0.164388  0.039337 -0.039631   \n",
       "2 -0.331597 -0.118530 -0.041431  0.059621  0.179973 -0.113783  0.058469   \n",
       "3 -0.597431 -0.085311 -0.065039  0.021580  0.004428 -0.291394  0.276109   \n",
       "4 -0.271902 -0.066777 -0.170784  0.122584  0.086368 -0.320087  0.237362   \n",
       "\n",
       "       vec8      vec9     vec10  ...    vec291    vec292    vec293    vec294  \\\n",
       "0 -0.081785 -0.048301 -0.417694  ... -0.121282 -0.078220 -0.200078 -0.199189   \n",
       "1 -0.287422  0.184435 -0.295750  ... -0.103980 -0.248182 -0.244793 -0.249206   \n",
       "2 -0.280090  0.135843 -0.458282  ... -0.288484 -0.225221 -0.407367 -0.409702   \n",
       "3 -0.034920 -0.070244 -0.398463  ... -0.260878 -0.030368 -0.336718 -0.279815   \n",
       "4 -0.003428 -0.254475 -0.347864  ... -0.314552  0.035513 -0.213958 -0.005086   \n",
       "\n",
       "     vec295    vec296    vec297    vec298    vec299    vec300  \n",
       "0 -0.377249 -0.283721 -0.404355 -0.185296 -0.134085  0.386315  \n",
       "1 -0.249003 -0.200706 -0.071784 -0.092761 -0.046702  0.042452  \n",
       "2 -0.239298 -0.223382 -0.223002 -0.164918 -0.222416  0.168206  \n",
       "3 -0.248160 -0.154243 -0.367584 -0.223831 -0.115881  0.390873  \n",
       "4 -0.200753  0.048327 -0.046054 -0.287842  0.107349  0.017630  \n",
       "\n",
       "[5 rows x 300 columns]"
      ]
     },
     "execution_count": 183,
     "metadata": {},
     "output_type": "execute_result"
    }
   ],
   "source": [
    "pdf[['vec'+str(r) for r in range(1,301)]] = pd.DataFrame(pdf.sites_vector.values.tolist(), index= pdf.index)\n",
    "pdf = pdf.fillna(0) \n",
    "pdf[['vec'+str(r) for r in range(1,301)]].head()"
   ]
  },
  {
   "cell_type": "code",
   "execution_count": 184,
   "metadata": {},
   "outputs": [],
   "source": [
    "X_10users, y_10users = pdf[['vec'+str(r) for r in range(1,301)]].values, \\\n",
    "                       pdf['user_id'].values"
   ]
  },
  {
   "cell_type": "code",
   "execution_count": 170,
   "metadata": {},
   "outputs": [
    {
     "data": {
      "text/plain": [
       "(14061, 10)"
      ]
     },
     "execution_count": 170,
     "metadata": {},
     "output_type": "execute_result"
    }
   ],
   "source": [
    "X_10users.shape"
   ]
  },
  {
   "cell_type": "code",
   "execution_count": 176,
   "metadata": {},
   "outputs": [
    {
     "data": {
      "text/plain": [
       "(14061, 300)"
      ]
     },
     "execution_count": 176,
     "metadata": {},
     "output_type": "execute_result"
    }
   ],
   "source": [
    "X_10users.shape"
   ]
  },
  {
   "cell_type": "code",
   "execution_count": 158,
   "metadata": {},
   "outputs": [
    {
     "data": {
      "text/plain": [
       "array([1, 1, 1, ..., 5, 5, 5])"
      ]
     },
     "execution_count": 158,
     "metadata": {},
     "output_type": "execute_result"
    }
   ],
   "source": [
    "y_10users"
   ]
  },
  {
   "cell_type": "code",
   "execution_count": 185,
   "metadata": {},
   "outputs": [
    {
     "name": "stderr",
     "output_type": "stream",
     "text": [
      "/home/makilins/.local/lib/python2.7/site-packages/sklearn/linear_model/logistic.py:460: FutureWarning: Default multi_class will be changed to 'auto' in 0.22. Specify the multi_class option to silence this warning.\n",
      "  \"this warning.\", FutureWarning)\n"
     ]
    },
    {
     "name": "stdout",
     "output_type": "stream",
     "text": [
      "[0.57016743 0.55657213 0.57687614]\n",
      "0.5678718991133253\n"
     ]
    }
   ],
   "source": [
    "from sklearn.linear_model import LogisticRegression, LogisticRegressionCV\n",
    "from sklearn.model_selection import train_test_split, cross_val_score, StratifiedKFold, GridSearchCV\n",
    "from sklearn.metrics import accuracy_score, f1_score\n",
    "\n",
    "skf = StratifiedKFold(n_splits=3, shuffle=True, random_state=17)\n",
    "\n",
    "X_train, X_valid, y_train, y_valid = train_test_split(X_10users, y_10users, \n",
    "                                                      test_size=0.3, \n",
    "                                                     random_state=17, stratify=y_10users)\n",
    "\n",
    "logit = LogisticRegression(random_state=17)\n",
    "scores = cross_val_score(logit, X_train, y_train, cv=skf, scoring='accuracy')\n",
    "\n",
    "print(scores)\n",
    "print(np.mean(scores))"
   ]
  },
  {
   "cell_type": "code",
   "execution_count": 186,
   "metadata": {},
   "outputs": [
    {
     "name": "stdout",
     "output_type": "stream",
     "text": [
      "{128: array([[0.26392694, 0.41552511, 0.44474886, 0.49101979, 0.52328767,\n",
      "        0.55372907, 0.58569254, 0.60821918, 0.62678843, 0.64048706],\n",
      "       [0.26471485, 0.42360476, 0.44373285, 0.48490393, 0.50808173,\n",
      "        0.5336993 , 0.56877097, 0.58828911, 0.61177188, 0.61390668],\n",
      "       [0.26082977, 0.42220866, 0.45149481, 0.49603417, 0.52135448,\n",
      "        0.54850519, 0.58419768, 0.61134838, 0.633313  , 0.63849908]]), 1: array([[0.26392694, 0.41552511, 0.44474886, 0.49101979, 0.52328767,\n",
      "        0.55372907, 0.58569254, 0.60821918, 0.62678843, 0.64048706],\n",
      "       [0.26471485, 0.42360476, 0.44373285, 0.48490393, 0.50808173,\n",
      "        0.5336993 , 0.56877097, 0.58828911, 0.61177188, 0.61390668],\n",
      "       [0.26082977, 0.42220866, 0.45149481, 0.49603417, 0.52135448,\n",
      "        0.54850519, 0.58419768, 0.61134838, 0.633313  , 0.63849908]]), 5: array([[0.26392694, 0.41552511, 0.44474886, 0.49101979, 0.52328767,\n",
      "        0.55372907, 0.58569254, 0.60821918, 0.62678843, 0.64048706],\n",
      "       [0.26471485, 0.42360476, 0.44373285, 0.48490393, 0.50808173,\n",
      "        0.5336993 , 0.56877097, 0.58828911, 0.61177188, 0.61390668],\n",
      "       [0.26082977, 0.42220866, 0.45149481, 0.49603417, 0.52135448,\n",
      "        0.54850519, 0.58419768, 0.61134838, 0.633313  , 0.63849908]]), 33: array([[0.26392694, 0.41552511, 0.44474886, 0.49101979, 0.52328767,\n",
      "        0.55372907, 0.58569254, 0.60821918, 0.62678843, 0.64048706],\n",
      "       [0.26471485, 0.42360476, 0.44373285, 0.48490393, 0.50808173,\n",
      "        0.5336993 , 0.56877097, 0.58828911, 0.61177188, 0.61390668],\n",
      "       [0.26082977, 0.42220866, 0.45149481, 0.49603417, 0.52135448,\n",
      "        0.54850519, 0.58419768, 0.61134838, 0.633313  , 0.63849908]]), 39: array([[0.26392694, 0.41552511, 0.44474886, 0.49101979, 0.52328767,\n",
      "        0.55372907, 0.58569254, 0.60821918, 0.62678843, 0.64048706],\n",
      "       [0.26471485, 0.42360476, 0.44373285, 0.48490393, 0.50808173,\n",
      "        0.5336993 , 0.56877097, 0.58828911, 0.61177188, 0.61390668],\n",
      "       [0.26082977, 0.42220866, 0.45149481, 0.49603417, 0.52135448,\n",
      "        0.54850519, 0.58419768, 0.61134838, 0.633313  , 0.63849908]]), 237: array([[0.26392694, 0.41552511, 0.44474886, 0.49101979, 0.52328767,\n",
      "        0.55372907, 0.58569254, 0.60821918, 0.62678843, 0.64048706],\n",
      "       [0.26471485, 0.42360476, 0.44373285, 0.48490393, 0.50808173,\n",
      "        0.5336993 , 0.56877097, 0.58828911, 0.61177188, 0.61390668],\n",
      "       [0.26082977, 0.42220866, 0.45149481, 0.49603417, 0.52135448,\n",
      "        0.54850519, 0.58419768, 0.61134838, 0.633313  , 0.63849908]]), 241: array([[0.26392694, 0.41552511, 0.44474886, 0.49101979, 0.52328767,\n",
      "        0.55372907, 0.58569254, 0.60821918, 0.62678843, 0.64048706],\n",
      "       [0.26471485, 0.42360476, 0.44373285, 0.48490393, 0.50808173,\n",
      "        0.5336993 , 0.56877097, 0.58828911, 0.61177188, 0.61390668],\n",
      "       [0.26082977, 0.42220866, 0.45149481, 0.49603417, 0.52135448,\n",
      "        0.54850519, 0.58419768, 0.61134838, 0.633313  , 0.63849908]]), 127: array([[0.26392694, 0.41552511, 0.44474886, 0.49101979, 0.52328767,\n",
      "        0.55372907, 0.58569254, 0.60821918, 0.62678843, 0.64048706],\n",
      "       [0.26471485, 0.42360476, 0.44373285, 0.48490393, 0.50808173,\n",
      "        0.5336993 , 0.56877097, 0.58828911, 0.61177188, 0.61390668],\n",
      "       [0.26082977, 0.42220866, 0.45149481, 0.49603417, 0.52135448,\n",
      "        0.54850519, 0.58419768, 0.61134838, 0.633313  , 0.63849908]]), 27: array([[0.26392694, 0.41552511, 0.44474886, 0.49101979, 0.52328767,\n",
      "        0.55372907, 0.58569254, 0.60821918, 0.62678843, 0.64048706],\n",
      "       [0.26471485, 0.42360476, 0.44373285, 0.48490393, 0.50808173,\n",
      "        0.5336993 , 0.56877097, 0.58828911, 0.61177188, 0.61390668],\n",
      "       [0.26082977, 0.42220866, 0.45149481, 0.49603417, 0.52135448,\n",
      "        0.54850519, 0.58419768, 0.61134838, 0.633313  , 0.63849908]]), 31: array([[0.26392694, 0.41552511, 0.44474886, 0.49101979, 0.52328767,\n",
      "        0.55372907, 0.58569254, 0.60821918, 0.62678843, 0.64048706],\n",
      "       [0.26471485, 0.42360476, 0.44373285, 0.48490393, 0.50808173,\n",
      "        0.5336993 , 0.56877097, 0.58828911, 0.61177188, 0.61390668],\n",
      "       [0.26082977, 0.42220866, 0.45149481, 0.49603417, 0.52135448,\n",
      "        0.54850519, 0.58419768, 0.61134838, 0.633313  , 0.63849908]])}\n",
      "CPU times: user 16.1 s, sys: 56.6 s, total: 1min 12s\n",
      "Wall time: 35.6 s\n"
     ]
    },
    {
     "name": "stderr",
     "output_type": "stream",
     "text": [
      "/home/makilins/.local/lib/python2.7/site-packages/sklearn/linear_model/logistic.py:758: ConvergenceWarning: lbfgs failed to converge. Increase the number of iterations.\n",
      "  \"of iterations.\", ConvergenceWarning)\n"
     ]
    }
   ],
   "source": [
    "%%time\n",
    "\n",
    "logit_c_values1 = np.logspace(-4, 2, 10)\n",
    "\n",
    "logit_grid_searcher1 = LogisticRegressionCV(Cs=logit_c_values1,\n",
    "                                            cv=skf,\n",
    "                                            multi_class='multinomial',\n",
    "                                            n_jobs=-1)\n",
    "logit_grid_searcher1.fit(X_train, y_train)\n",
    "\n",
    "print(logit_grid_searcher1.scores_)"
   ]
  },
  {
   "cell_type": "code",
   "execution_count": 187,
   "metadata": {},
   "outputs": [
    {
     "data": {
      "text/plain": [
       "array([0.26392694, 0.41552511, 0.44474886, 0.49101979, 0.52328767,\n",
       "       0.55372907, 0.58569254, 0.60821918, 0.62678843, 0.64048706])"
      ]
     },
     "execution_count": 187,
     "metadata": {},
     "output_type": "execute_result"
    }
   ],
   "source": [
    "for res in logit_grid_searcher1.scores_.items():\n",
    "    logit_mean_cv_scores1 = res[1][0]\n",
    "\n",
    "logit_mean_cv_scores1"
   ]
  },
  {
   "cell_type": "code",
   "execution_count": null,
   "metadata": {
    "collapsed": true
   },
   "outputs": [],
   "source": []
  },
  {
   "cell_type": "code",
   "execution_count": null,
   "metadata": {
    "collapsed": true
   },
   "outputs": [],
   "source": []
  },
  {
   "cell_type": "code",
   "execution_count": null,
   "metadata": {
    "collapsed": true
   },
   "outputs": [],
   "source": []
  },
  {
   "cell_type": "code",
   "execution_count": null,
   "metadata": {
    "collapsed": true
   },
   "outputs": [],
   "source": []
  },
  {
   "cell_type": "code",
   "execution_count": null,
   "metadata": {
    "collapsed": true
   },
   "outputs": [],
   "source": []
  },
  {
   "cell_type": "code",
   "execution_count": null,
   "metadata": {
    "collapsed": true
   },
   "outputs": [],
   "source": []
  },
  {
   "cell_type": "code",
   "execution_count": null,
   "metadata": {
    "collapsed": true
   },
   "outputs": [],
   "source": []
  },
  {
   "cell_type": "code",
   "execution_count": null,
   "metadata": {
    "collapsed": true
   },
   "outputs": [],
   "source": []
  },
  {
   "cell_type": "code",
   "execution_count": null,
   "metadata": {
    "collapsed": true
   },
   "outputs": [],
   "source": []
  }
 ],
 "metadata": {
  "kernelspec": {
   "display_name": "Python 3",
   "language": "python",
   "name": "python3"
  },
  "language_info": {
   "codemirror_mode": {
    "name": "ipython",
    "version": 2
   },
   "file_extension": ".py",
   "mimetype": "text/x-python",
   "name": "python",
   "nbconvert_exporter": "python",
   "pygments_lexer": "ipython2",
   "version": "2.7.17"
  }
 },
 "nbformat": 4,
 "nbformat_minor": 2
}
