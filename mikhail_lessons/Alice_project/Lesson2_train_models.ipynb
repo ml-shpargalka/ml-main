{
 "cells": [
  {
   "cell_type": "code",
   "execution_count": 1,
   "metadata": {
    "collapsed": true
   },
   "outputs": [],
   "source": [
    "# отключим всякие предупреждения Anaconda\n",
    "import warnings\n",
    "warnings.filterwarnings('ignore')\n",
    "import os\n",
    "import pickle\n",
    "import numpy as np\n",
    "import pandas as pd"
   ]
  },
  {
   "cell_type": "code",
   "execution_count": 2,
   "metadata": {
    "collapsed": true
   },
   "outputs": [],
   "source": [
    "PATH_TO_DATA = 'capstone_user_identification'"
   ]
  },
  {
   "cell_type": "code",
   "execution_count": 3,
   "metadata": {
    "collapsed": true
   },
   "outputs": [],
   "source": [
    "from sklearn.model_selection import train_test_split, cross_val_score, StratifiedKFold, GridSearchCV\n",
    "from sklearn.metrics import accuracy_score, f1_score"
   ]
  },
  {
   "cell_type": "code",
   "execution_count": 8,
   "metadata": {
    "collapsed": true
   },
   "outputs": [],
   "source": [
    "with open(os.path.join(PATH_TO_DATA, \n",
    "         'X_sparse_10users.pkl'), 'rb') as X_sparse_10users_pkl:\n",
    "    X_sparse_10users = pickle.load(X_sparse_10users_pkl)\n",
    "with open(os.path.join(PATH_TO_DATA, \n",
    "                       'y_10users.pkl'), 'rb') as y_10users_pkl:\n",
    "    y_10users = pickle.load(y_10users_pkl)"
   ]
  },
  {
   "cell_type": "code",
   "execution_count": 9,
   "metadata": {},
   "outputs": [
    {
     "data": {
      "text/plain": [
       "(14061, 4735)"
      ]
     },
     "execution_count": 9,
     "metadata": {},
     "output_type": "execute_result"
    }
   ],
   "source": [
    "X_sparse_10users.shape"
   ]
  },
  {
   "cell_type": "code",
   "execution_count": 10,
   "metadata": {},
   "outputs": [
    {
     "data": {
      "text/plain": [
       "array([['1'],\n",
       "       ['1'],\n",
       "       ['1'],\n",
       "       ...,\n",
       "       ['5'],\n",
       "       ['5'],\n",
       "       ['5']], dtype=object)"
      ]
     },
     "execution_count": 10,
     "metadata": {},
     "output_type": "execute_result"
    }
   ],
   "source": [
    "y_10users"
   ]
  },
  {
   "cell_type": "code",
   "execution_count": 11,
   "metadata": {},
   "outputs": [],
   "source": [
    "# stratify=y_10users - стратифицируем выборки\n",
    "\n",
    "X_train, X_valid, y_train, y_valid = train_test_split(X_sparse_10users, y_10users, \n",
    "                                                      test_size=0.3, \n",
    "                                                     random_state=17, stratify=y_10users)"
   ]
  },
  {
   "cell_type": "code",
   "execution_count": 12,
   "metadata": {
    "collapsed": true
   },
   "outputs": [],
   "source": [
    "skf = StratifiedKFold(n_splits=3, shuffle=True, random_state=17)"
   ]
  },
  {
   "cell_type": "code",
   "execution_count": null,
   "metadata": {
    "collapsed": true
   },
   "outputs": [],
   "source": [
    "def plot_validation_curves(param_values, grid_cv_results_):\n",
    "    train_mu, train_std = grid_cv_results_['mean_train_score'], grid_cv_results_['std_train_score']\n",
    "    valid_mu, valid_std = grid_cv_results_['mean_test_score'], grid_cv_results_['std_test_score']\n",
    "    train_line = plt.plot(param_values, train_mu, '-', label='train', color='green')\n",
    "    valid_line = plt.plot(param_values, valid_mu, '-', label='test', color='red')\n",
    "    plt.fill_between(param_values, train_mu - train_std, train_mu + train_std, edgecolor='none',\n",
    "                     facecolor=train_line[0].get_color(), alpha=0.2)\n",
    "    plt.fill_between(param_values, valid_mu - valid_std, valid_mu + valid_std, edgecolor='none',\n",
    "                     facecolor=valid_line[0].get_color(), alpha=0.2)\n",
    "    plt.legend()"
   ]
  },
  {
   "cell_type": "code",
   "execution_count": 13,
   "metadata": {},
   "outputs": [
    {
     "name": "stdout",
     "output_type": "stream",
     "text": [
      "[0.56164384 0.56267155 0.57260525]\n",
      "0.5656402096404801\n",
      "CPU times: user 20min 20s, sys: 15.7 s, total: 20min 36s\n",
      "Wall time: 35.9 s\n"
     ]
    }
   ],
   "source": [
    "%%time\n",
    "\n",
    "from sklearn.neighbors import KNeighborsClassifier\n",
    "\n",
    "knn = KNeighborsClassifier(n_neighbors=100, n_jobs=-1)\n",
    "scores = cross_val_score(knn, X_train, y_train, cv=skf, scoring='accuracy')\n",
    "\n",
    "print(scores)\n",
    "print(np.mean(scores))"
   ]
  },
  {
   "cell_type": "code",
   "execution_count": 14,
   "metadata": {},
   "outputs": [
    {
     "name": "stdout",
     "output_type": "stream",
     "text": [
      "0.7242430400325137\n",
      "CPU times: user 1min 1s, sys: 5.29 s, total: 1min 6s\n",
      "Wall time: 8.47 s\n"
     ]
    }
   ],
   "source": [
    "%%time\n",
    "\n",
    "from sklearn.ensemble import RandomForestClassifier\n",
    "\n",
    "forest = RandomForestClassifier(random_state=17, n_estimators=100, oob_score=True, n_jobs=-1)\n",
    "forest.fit(X_train, y_train)\n",
    "print(forest.oob_score_)"
   ]
  },
  {
   "cell_type": "code",
   "execution_count": 15,
   "metadata": {},
   "outputs": [
    {
     "name": "stdout",
     "output_type": "stream",
     "text": [
      "[0.76407915 0.7642574  0.75655888]\n",
      "0.7616318068508203\n"
     ]
    }
   ],
   "source": [
    "from sklearn.linear_model import LogisticRegression, LogisticRegressionCV\n",
    "\n",
    "logit = LogisticRegression(random_state=17)\n",
    "scores = cross_val_score(logit, X_train, y_train, cv=skf, scoring='accuracy')\n",
    "\n",
    "print(scores)\n",
    "print(np.mean(scores))"
   ]
  },
  {
   "cell_type": "code",
   "execution_count": 19,
   "metadata": {},
   "outputs": [
    {
     "name": "stdout",
     "output_type": "stream",
     "text": [
      "{'39': array([[0.42891933, 0.50898021, 0.59878234, 0.68280061, 0.73637747,\n",
      "        0.75190259, 0.75525114, 0.75829528, 0.743379  , 0.74794521],\n",
      "       [0.42939921, 0.50564196, 0.60414761, 0.67063129, 0.72339128,\n",
      "        0.74992376, 0.75754803, 0.75449832, 0.74443428, 0.74443428],\n",
      "       [0.42892007, 0.50732154, 0.59792556, 0.67419158, 0.72788286,\n",
      "        0.75137279, 0.75228798, 0.75289811, 0.75167785, 0.74923734]]), '27': array([[0.42891933, 0.50898021, 0.59878234, 0.68280061, 0.73637747,\n",
      "        0.75190259, 0.75525114, 0.75829528, 0.743379  , 0.74794521],\n",
      "       [0.42939921, 0.50564196, 0.60414761, 0.67063129, 0.72339128,\n",
      "        0.74992376, 0.75754803, 0.75449832, 0.74443428, 0.74443428],\n",
      "       [0.42892007, 0.50732154, 0.59792556, 0.67419158, 0.72788286,\n",
      "        0.75137279, 0.75228798, 0.75289811, 0.75167785, 0.74923734]]), '33': array([[0.42891933, 0.50898021, 0.59878234, 0.68280061, 0.73637747,\n",
      "        0.75190259, 0.75525114, 0.75829528, 0.743379  , 0.74794521],\n",
      "       [0.42939921, 0.50564196, 0.60414761, 0.67063129, 0.72339128,\n",
      "        0.74992376, 0.75754803, 0.75449832, 0.74443428, 0.74443428],\n",
      "       [0.42892007, 0.50732154, 0.59792556, 0.67419158, 0.72788286,\n",
      "        0.75137279, 0.75228798, 0.75289811, 0.75167785, 0.74923734]]), '31': array([[0.42891933, 0.50898021, 0.59878234, 0.68280061, 0.73637747,\n",
      "        0.75190259, 0.75525114, 0.75829528, 0.743379  , 0.74794521],\n",
      "       [0.42939921, 0.50564196, 0.60414761, 0.67063129, 0.72339128,\n",
      "        0.74992376, 0.75754803, 0.75449832, 0.74443428, 0.74443428],\n",
      "       [0.42892007, 0.50732154, 0.59792556, 0.67419158, 0.72788286,\n",
      "        0.75137279, 0.75228798, 0.75289811, 0.75167785, 0.74923734]]), '1': array([[0.42891933, 0.50898021, 0.59878234, 0.68280061, 0.73637747,\n",
      "        0.75190259, 0.75525114, 0.75829528, 0.743379  , 0.74794521],\n",
      "       [0.42939921, 0.50564196, 0.60414761, 0.67063129, 0.72339128,\n",
      "        0.74992376, 0.75754803, 0.75449832, 0.74443428, 0.74443428],\n",
      "       [0.42892007, 0.50732154, 0.59792556, 0.67419158, 0.72788286,\n",
      "        0.75137279, 0.75228798, 0.75289811, 0.75167785, 0.74923734]]), '241': array([[0.42891933, 0.50898021, 0.59878234, 0.68280061, 0.73637747,\n",
      "        0.75190259, 0.75525114, 0.75829528, 0.743379  , 0.74794521],\n",
      "       [0.42939921, 0.50564196, 0.60414761, 0.67063129, 0.72339128,\n",
      "        0.74992376, 0.75754803, 0.75449832, 0.74443428, 0.74443428],\n",
      "       [0.42892007, 0.50732154, 0.59792556, 0.67419158, 0.72788286,\n",
      "        0.75137279, 0.75228798, 0.75289811, 0.75167785, 0.74923734]]), '127': array([[0.42891933, 0.50898021, 0.59878234, 0.68280061, 0.73637747,\n",
      "        0.75190259, 0.75525114, 0.75829528, 0.743379  , 0.74794521],\n",
      "       [0.42939921, 0.50564196, 0.60414761, 0.67063129, 0.72339128,\n",
      "        0.74992376, 0.75754803, 0.75449832, 0.74443428, 0.74443428],\n",
      "       [0.42892007, 0.50732154, 0.59792556, 0.67419158, 0.72788286,\n",
      "        0.75137279, 0.75228798, 0.75289811, 0.75167785, 0.74923734]]), '128': array([[0.42891933, 0.50898021, 0.59878234, 0.68280061, 0.73637747,\n",
      "        0.75190259, 0.75525114, 0.75829528, 0.743379  , 0.74794521],\n",
      "       [0.42939921, 0.50564196, 0.60414761, 0.67063129, 0.72339128,\n",
      "        0.74992376, 0.75754803, 0.75449832, 0.74443428, 0.74443428],\n",
      "       [0.42892007, 0.50732154, 0.59792556, 0.67419158, 0.72788286,\n",
      "        0.75137279, 0.75228798, 0.75289811, 0.75167785, 0.74923734]]), '5': array([[0.42891933, 0.50898021, 0.59878234, 0.68280061, 0.73637747,\n",
      "        0.75190259, 0.75525114, 0.75829528, 0.743379  , 0.74794521],\n",
      "       [0.42939921, 0.50564196, 0.60414761, 0.67063129, 0.72339128,\n",
      "        0.74992376, 0.75754803, 0.75449832, 0.74443428, 0.74443428],\n",
      "       [0.42892007, 0.50732154, 0.59792556, 0.67419158, 0.72788286,\n",
      "        0.75137279, 0.75228798, 0.75289811, 0.75167785, 0.74923734]]), '237': array([[0.42891933, 0.50898021, 0.59878234, 0.68280061, 0.73637747,\n",
      "        0.75190259, 0.75525114, 0.75829528, 0.743379  , 0.74794521],\n",
      "       [0.42939921, 0.50564196, 0.60414761, 0.67063129, 0.72339128,\n",
      "        0.74992376, 0.75754803, 0.75449832, 0.74443428, 0.74443428],\n",
      "       [0.42892007, 0.50732154, 0.59792556, 0.67419158, 0.72788286,\n",
      "        0.75137279, 0.75228798, 0.75289811, 0.75167785, 0.74923734]])}\n",
      "CPU times: user 2min 59s, sys: 4min 24s, total: 7min 23s\n",
      "Wall time: 2min 25s\n"
     ]
    }
   ],
   "source": [
    "%%time\n",
    "\n",
    "logit_c_values1 = np.logspace(-4, 2, 10)\n",
    "\n",
    "logit_grid_searcher1 = LogisticRegressionCV(Cs=logit_c_values1,\n",
    "                                            cv=skf,\n",
    "                                            multi_class='multinomial',\n",
    "                                            n_jobs=-1)\n",
    "logit_grid_searcher1.fit(X_train, y_train)\n",
    "\n",
    "print(logit_grid_searcher1.scores_)\n"
   ]
  },
  {
   "cell_type": "code",
   "execution_count": 33,
   "metadata": {},
   "outputs": [
    {
     "name": "stdout",
     "output_type": "stream",
     "text": [
      "[1.00000000e-04 4.64158883e-04 2.15443469e-03 1.00000000e-02\n",
      " 4.64158883e-02 2.15443469e-01 1.00000000e+00 4.64158883e+00\n",
      " 2.15443469e+01 1.00000000e+02]\n",
      "10\n"
     ]
    }
   ],
   "source": [
    "print(logit_grid_searcher1.Cs_)\n",
    "print(len(logit_grid_searcher1.Cs_))\n",
    "\n",
    "logit_c_values1 = logit_grid_searcher1.Cs_"
   ]
  },
  {
   "cell_type": "code",
   "execution_count": 32,
   "metadata": {},
   "outputs": [
    {
     "data": {
      "text/plain": [
       "array([0.42891933, 0.50898021, 0.59878234, 0.68280061, 0.73637747,\n",
       "       0.75190259, 0.75525114, 0.75829528, 0.743379  , 0.74794521])"
      ]
     },
     "execution_count": 32,
     "metadata": {},
     "output_type": "execute_result"
    }
   ],
   "source": [
    "for res in logit_grid_searcher1.scores_.items():\n",
    "    logit_mean_cv_scores1 = res[1][0]\n",
    "\n",
    "logit_mean_cv_scores1"
   ]
  },
  {
   "cell_type": "code",
   "execution_count": 35,
   "metadata": {},
   "outputs": [
    {
     "data": {
      "text/plain": [
       "[<matplotlib.lines.Line2D at 0x7f2f1b327d10>]"
      ]
     },
     "execution_count": 35,
     "metadata": {},
     "output_type": "execute_result"
    },
    {
     "data": {
      "image/png": "[encoded data removed]",
      "text/plain": [
       "<Figure size 432x288 with 1 Axes>"
      ]
     },
     "metadata": {},
     "output_type": "display_data"
    }
   ],
   "source": [
    "%matplotlib inline\n",
    "from matplotlib import pyplot as plt\n",
    "\n",
    "plt.plot(logit_c_values1, logit_mean_cv_scores1)"
   ]
  },
  {
   "cell_type": "code",
   "execution_count": null,
   "metadata": {
    "collapsed": true
   },
   "outputs": [],
   "source": []
  },
  {
   "cell_type": "code",
   "execution_count": null,
   "metadata": {
    "collapsed": true
   },
   "outputs": [],
   "source": []
  },
  {
   "cell_type": "code",
   "execution_count": null,
   "metadata": {
    "collapsed": true
   },
   "outputs": [],
   "source": []
  },
  {
   "cell_type": "code",
   "execution_count": null,
   "metadata": {
    "collapsed": true
   },
   "outputs": [],
   "source": []
  },
  {
   "cell_type": "code",
   "execution_count": null,
   "metadata": {
    "collapsed": true
   },
   "outputs": [],
   "source": []
  },
  {
   "cell_type": "code",
   "execution_count": null,
   "metadata": {
    "collapsed": true
   },
   "outputs": [],
   "source": []
  },
  {
   "cell_type": "code",
   "execution_count": null,
   "metadata": {
    "collapsed": true
   },
   "outputs": [],
   "source": []
  },
  {
   "cell_type": "code",
   "execution_count": null,
   "metadata": {
    "collapsed": true
   },
   "outputs": [],
   "source": []
  },
  {
   "cell_type": "code",
   "execution_count": null,
   "metadata": {
    "collapsed": true
   },
   "outputs": [],
   "source": []
  },
  {
   "cell_type": "code",
   "execution_count": null,
   "metadata": {
    "collapsed": true
   },
   "outputs": [],
   "source": []
  },
  {
   "cell_type": "code",
   "execution_count": null,
   "metadata": {
    "collapsed": true
   },
   "outputs": [],
   "source": []
  },
  {
   "cell_type": "code",
   "execution_count": null,
   "metadata": {
    "collapsed": true
   },
   "outputs": [],
   "source": []
  },
  {
   "cell_type": "code",
   "execution_count": null,
   "metadata": {
    "collapsed": true
   },
   "outputs": [],
   "source": []
  },
  {
   "cell_type": "code",
   "execution_count": null,
   "metadata": {
    "collapsed": true
   },
   "outputs": [],
   "source": []
  },
  {
   "cell_type": "code",
   "execution_count": null,
   "metadata": {
    "collapsed": true
   },
   "outputs": [],
   "source": []
  },
  {
   "cell_type": "code",
   "execution_count": null,
   "metadata": {
    "collapsed": true
   },
   "outputs": [],
   "source": []
  },
  {
   "cell_type": "code",
   "execution_count": null,
   "metadata": {
    "collapsed": true
   },
   "outputs": [],
   "source": []
  },
  {
   "cell_type": "code",
   "execution_count": null,
   "metadata": {
    "collapsed": true
   },
   "outputs": [],
   "source": []
  }
 ],
 "metadata": {
  "kernelspec": {
   "display_name": "Python 3",
   "language": "python",
   "name": "python3"
  },
  "language_info": {
   "codemirror_mode": {
    "name": "ipython",
    "version": 2
   },
   "file_extension": ".py",
   "mimetype": "text/x-python",
   "name": "python",
   "nbconvert_exporter": "python",
   "pygments_lexer": "ipython2",
   "version": "2.7.17"
  }
 },
 "nbformat": 4,
 "nbformat_minor": 2
}
