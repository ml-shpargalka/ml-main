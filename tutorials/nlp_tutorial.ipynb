{
 "cells": [
  {
   "cell_type": "code",
   "execution_count": 116,
   "metadata": {
    "ExecuteTime": {
     "end_time": "2020-03-05T13:20:04.326974Z",
     "start_time": "2020-03-05T13:20:04.319162Z"
    }
   },
   "outputs": [],
   "source": [
    "import pandas as pd\n",
    "import numpy as np\n",
    "from sklearn.model_selection import train_test_split\n",
    "pd.set_option('max_colwidth', -1) # чтобы отображались все слова в строке"
   ]
  },
  {
   "cell_type": "code",
   "execution_count": 117,
   "metadata": {
    "ExecuteTime": {
     "end_time": "2020-03-05T13:20:05.105056Z",
     "start_time": "2020-03-05T13:20:05.089890Z"
    }
   },
   "outputs": [
    {
     "data": {
      "text/html": [
       "<div>\n",
       "<style scoped>\n",
       "    .dataframe tbody tr th:only-of-type {\n",
       "        vertical-align: middle;\n",
       "    }\n",
       "\n",
       "    .dataframe tbody tr th {\n",
       "        vertical-align: top;\n",
       "    }\n",
       "\n",
       "    .dataframe thead th {\n",
       "        text-align: right;\n",
       "    }\n",
       "</style>\n",
       "<table border=\"1\" class=\"dataframe\">\n",
       "  <thead>\n",
       "    <tr style=\"text-align: right;\">\n",
       "      <th></th>\n",
       "      <th>poem</th>\n",
       "    </tr>\n",
       "  </thead>\n",
       "  <tbody>\n",
       "    <tr>\n",
       "      <th>0</th>\n",
       "      <td>Cats sleep anywhere, Any table, Any chair,</td>\n",
       "    </tr>\n",
       "    <tr>\n",
       "      <th>1</th>\n",
       "      <td>Top of piano, Window-ledge, In the middle, On the edge,</td>\n",
       "    </tr>\n",
       "    <tr>\n",
       "      <th>2</th>\n",
       "      <td>Open drawer, Empty shoe, Anybody's Lap will do</td>\n",
       "    </tr>\n",
       "    <tr>\n",
       "      <th>3</th>\n",
       "      <td>Fitted in a Cardboard box, In the cupboard With your frocks</td>\n",
       "    </tr>\n",
       "    <tr>\n",
       "      <th>4</th>\n",
       "      <td>Anywhere! They don't care! Cat's sleep Anywhere.</td>\n",
       "    </tr>\n",
       "  </tbody>\n",
       "</table>\n",
       "</div>"
      ],
      "text/plain": [
       "                                                          poem\n",
       "0  Cats sleep anywhere, Any table, Any chair,                 \n",
       "1  Top of piano, Window-ledge, In the middle, On the edge,    \n",
       "2  Open drawer, Empty shoe, Anybody's Lap will do             \n",
       "3  Fitted in a Cardboard box, In the cupboard With your frocks\n",
       "4  Anywhere! They don't care! Cat's sleep Anywhere.           "
      ]
     },
     "execution_count": 117,
     "metadata": {},
     "output_type": "execute_result"
    }
   ],
   "source": [
    "df = pd.DataFrame([\n",
    "    [\"Cats sleep anywhere, Any table, Any chair,\"], \n",
    "    [\"Top of piano, Window-ledge, In the middle, On the edge,\"],\n",
    "    [\"Open drawer, Empty shoe, Anybody's Lap will do\"],\n",
    "    [\"Fitted in a Cardboard box, In the cupboard With your frocks\"],\n",
    "    [\"Anywhere! They don't care! Cat's sleep Anywhere.\"]],\n",
    "    columns=['poem']\n",
    ")\n",
    "\n",
    "df"
   ]
  },
  {
   "cell_type": "markdown",
   "metadata": {},
   "source": [
    "Что внутри датафрейма? Предложение целиком. Это значит, что нам нужно разбить его на слова"
   ]
  },
  {
   "cell_type": "code",
   "execution_count": 118,
   "metadata": {
    "ExecuteTime": {
     "end_time": "2020-03-05T13:20:31.154436Z",
     "start_time": "2020-03-05T13:20:31.144419Z"
    }
   },
   "outputs": [
    {
     "data": {
      "text/plain": [
       "'Cats sleep anywhere, Any table, Any chair,'"
      ]
     },
     "execution_count": 118,
     "metadata": {},
     "output_type": "execute_result"
    }
   ],
   "source": [
    "df.iloc[0]['poem']"
   ]
  },
  {
   "cell_type": "code",
   "execution_count": 119,
   "metadata": {
    "ExecuteTime": {
     "end_time": "2020-03-05T13:20:43.907727Z",
     "start_time": "2020-03-05T13:20:43.883651Z"
    }
   },
   "outputs": [
    {
     "data": {
      "text/plain": [
       "['cats', 'sleep', 'anywhere,', 'any', 'table,', 'any', 'chair,']"
      ]
     },
     "execution_count": 119,
     "metadata": {},
     "output_type": "execute_result"
    }
   ],
   "source": [
    "df.loc[:, 'splitted_poem'] = df['poem'].map(lambda x: x.lower().strip().split(' '))\n",
    "\n",
    "df.iloc[0]['splitted_poem']"
   ]
  },
  {
   "cell_type": "markdown",
   "metadata": {},
   "source": [
    "# Превращаем текст в числа\n"
   ]
  },
  {
   "cell_type": "markdown",
   "metadata": {},
   "source": [
    "# CountVectorizer = bag of words "
   ]
  },
  {
   "cell_type": "code",
   "execution_count": 68,
   "metadata": {
    "ExecuteTime": {
     "end_time": "2020-03-05T09:33:03.098068Z",
     "start_time": "2020-03-05T09:33:03.093731Z"
    }
   },
   "outputs": [],
   "source": [
    "from sklearn.feature_extraction.text import CountVectorizer"
   ]
  },
  {
   "cell_type": "code",
   "execution_count": 120,
   "metadata": {
    "ExecuteTime": {
     "end_time": "2020-03-05T13:22:01.327907Z",
     "start_time": "2020-03-05T13:22:01.311689Z"
    }
   },
   "outputs": [
    {
     "data": {
      "text/html": [
       "<div>\n",
       "<style scoped>\n",
       "    .dataframe tbody tr th:only-of-type {\n",
       "        vertical-align: middle;\n",
       "    }\n",
       "\n",
       "    .dataframe tbody tr th {\n",
       "        vertical-align: top;\n",
       "    }\n",
       "\n",
       "    .dataframe thead th {\n",
       "        text-align: right;\n",
       "    }\n",
       "</style>\n",
       "<table border=\"1\" class=\"dataframe\">\n",
       "  <thead>\n",
       "    <tr style=\"text-align: right;\">\n",
       "      <th></th>\n",
       "      <th>poem</th>\n",
       "      <th>splitted_poem</th>\n",
       "    </tr>\n",
       "  </thead>\n",
       "  <tbody>\n",
       "    <tr>\n",
       "      <th>4</th>\n",
       "      <td>Anywhere! They don't care! Cat's sleep Anywhere.</td>\n",
       "      <td>[anywhere!, they, don't, care!, cat's, sleep, anywhere.]</td>\n",
       "    </tr>\n",
       "    <tr>\n",
       "      <th>3</th>\n",
       "      <td>Fitted in a Cardboard box, In the cupboard With your frocks</td>\n",
       "      <td>[fitted, in, a, cardboard, box,, in, the, cupboard, with, your, frocks]</td>\n",
       "    </tr>\n",
       "    <tr>\n",
       "      <th>0</th>\n",
       "      <td>Cats sleep anywhere, Any table, Any chair,</td>\n",
       "      <td>[cats, sleep, anywhere,, any, table,, any, chair,]</td>\n",
       "    </tr>\n",
       "  </tbody>\n",
       "</table>\n",
       "</div>"
      ],
      "text/plain": [
       "                                                          poem                                                            splitted_poem\n",
       "4  Anywhere! They don't care! Cat's sleep Anywhere.             [anywhere!, they, don't, care!, cat's, sleep, anywhere.]               \n",
       "3  Fitted in a Cardboard box, In the cupboard With your frocks  [fitted, in, a, cardboard, box,, in, the, cupboard, with, your, frocks]\n",
       "0  Cats sleep anywhere, Any table, Any chair,                   [cats, sleep, anywhere,, any, table,, any, chair,]                     "
      ]
     },
     "execution_count": 120,
     "metadata": {},
     "output_type": "execute_result"
    }
   ],
   "source": [
    "X_train, X_test = train_test_split(df, test_size=0.3)\n",
    "X_train.head()"
   ]
  },
  {
   "cell_type": "code",
   "execution_count": 121,
   "metadata": {
    "ExecuteTime": {
     "end_time": "2020-03-05T13:22:02.545511Z",
     "start_time": "2020-03-05T13:22:02.534251Z"
    }
   },
   "outputs": [
    {
     "data": {
      "text/html": [
       "<div>\n",
       "<style scoped>\n",
       "    .dataframe tbody tr th:only-of-type {\n",
       "        vertical-align: middle;\n",
       "    }\n",
       "\n",
       "    .dataframe tbody tr th {\n",
       "        vertical-align: top;\n",
       "    }\n",
       "\n",
       "    .dataframe thead th {\n",
       "        text-align: right;\n",
       "    }\n",
       "</style>\n",
       "<table border=\"1\" class=\"dataframe\">\n",
       "  <thead>\n",
       "    <tr style=\"text-align: right;\">\n",
       "      <th></th>\n",
       "      <th>poem</th>\n",
       "      <th>splitted_poem</th>\n",
       "    </tr>\n",
       "  </thead>\n",
       "  <tbody>\n",
       "    <tr>\n",
       "      <th>1</th>\n",
       "      <td>Top of piano, Window-ledge, In the middle, On the edge,</td>\n",
       "      <td>[top, of, piano,, window-ledge,, in, the, middle,, on, the, edge,]</td>\n",
       "    </tr>\n",
       "    <tr>\n",
       "      <th>2</th>\n",
       "      <td>Open drawer, Empty shoe, Anybody's Lap will do</td>\n",
       "      <td>[open, drawer,, empty, shoe,, anybody's, lap, will, do]</td>\n",
       "    </tr>\n",
       "  </tbody>\n",
       "</table>\n",
       "</div>"
      ],
      "text/plain": [
       "                                                      poem                                                       splitted_poem\n",
       "1  Top of piano, Window-ledge, In the middle, On the edge,  [top, of, piano,, window-ledge,, in, the, middle,, on, the, edge,]\n",
       "2  Open drawer, Empty shoe, Anybody's Lap will do           [open, drawer,, empty, shoe,, anybody's, lap, will, do]           "
      ]
     },
     "execution_count": 121,
     "metadata": {},
     "output_type": "execute_result"
    }
   ],
   "source": [
    "X_test.head()"
   ]
  },
  {
   "cell_type": "code",
   "execution_count": 122,
   "metadata": {
    "ExecuteTime": {
     "end_time": "2020-03-05T13:22:43.223363Z",
     "start_time": "2020-03-05T13:22:43.192846Z"
    }
   },
   "outputs": [
    {
     "name": "stdout",
     "output_type": "stream",
     "text": [
      "\n",
      "результат работы CountVectorizer:\n",
      "[[0 2 0 0 1 1 0 0 0 1 0 0 0 1 0 0 1 0 0]\n",
      " [0 0 1 1 0 0 0 0 1 0 1 1 2 0 0 1 0 1 1]\n",
      " [2 1 0 0 0 0 1 1 0 0 0 0 0 1 1 0 0 0 0]]\n",
      "\n",
      "получившиеся столбцы:\n",
      "['any', 'anywhere', 'box', 'cardboard', 'care', 'cat', 'cats', 'chair', 'cupboard', 'don', 'fitted', 'frocks', 'in', 'sleep', 'table', 'the', 'they', 'with', 'your']\n"
     ]
    },
    {
     "data": {
      "text/html": [
       "<div>\n",
       "<style scoped>\n",
       "    .dataframe tbody tr th:only-of-type {\n",
       "        vertical-align: middle;\n",
       "    }\n",
       "\n",
       "    .dataframe tbody tr th {\n",
       "        vertical-align: top;\n",
       "    }\n",
       "\n",
       "    .dataframe thead th {\n",
       "        text-align: right;\n",
       "    }\n",
       "</style>\n",
       "<table border=\"1\" class=\"dataframe\">\n",
       "  <thead>\n",
       "    <tr style=\"text-align: right;\">\n",
       "      <th></th>\n",
       "      <th>any</th>\n",
       "      <th>anywhere</th>\n",
       "      <th>box</th>\n",
       "      <th>cardboard</th>\n",
       "      <th>care</th>\n",
       "      <th>cat</th>\n",
       "      <th>cats</th>\n",
       "      <th>chair</th>\n",
       "      <th>cupboard</th>\n",
       "      <th>don</th>\n",
       "      <th>fitted</th>\n",
       "      <th>frocks</th>\n",
       "      <th>in</th>\n",
       "      <th>sleep</th>\n",
       "      <th>table</th>\n",
       "      <th>the</th>\n",
       "      <th>they</th>\n",
       "      <th>with</th>\n",
       "      <th>your</th>\n",
       "    </tr>\n",
       "  </thead>\n",
       "  <tbody>\n",
       "    <tr>\n",
       "      <th>0</th>\n",
       "      <td>0</td>\n",
       "      <td>2</td>\n",
       "      <td>0</td>\n",
       "      <td>0</td>\n",
       "      <td>1</td>\n",
       "      <td>1</td>\n",
       "      <td>0</td>\n",
       "      <td>0</td>\n",
       "      <td>0</td>\n",
       "      <td>1</td>\n",
       "      <td>0</td>\n",
       "      <td>0</td>\n",
       "      <td>0</td>\n",
       "      <td>1</td>\n",
       "      <td>0</td>\n",
       "      <td>0</td>\n",
       "      <td>1</td>\n",
       "      <td>0</td>\n",
       "      <td>0</td>\n",
       "    </tr>\n",
       "    <tr>\n",
       "      <th>1</th>\n",
       "      <td>0</td>\n",
       "      <td>0</td>\n",
       "      <td>1</td>\n",
       "      <td>1</td>\n",
       "      <td>0</td>\n",
       "      <td>0</td>\n",
       "      <td>0</td>\n",
       "      <td>0</td>\n",
       "      <td>1</td>\n",
       "      <td>0</td>\n",
       "      <td>1</td>\n",
       "      <td>1</td>\n",
       "      <td>2</td>\n",
       "      <td>0</td>\n",
       "      <td>0</td>\n",
       "      <td>1</td>\n",
       "      <td>0</td>\n",
       "      <td>1</td>\n",
       "      <td>1</td>\n",
       "    </tr>\n",
       "    <tr>\n",
       "      <th>2</th>\n",
       "      <td>2</td>\n",
       "      <td>1</td>\n",
       "      <td>0</td>\n",
       "      <td>0</td>\n",
       "      <td>0</td>\n",
       "      <td>0</td>\n",
       "      <td>1</td>\n",
       "      <td>1</td>\n",
       "      <td>0</td>\n",
       "      <td>0</td>\n",
       "      <td>0</td>\n",
       "      <td>0</td>\n",
       "      <td>0</td>\n",
       "      <td>1</td>\n",
       "      <td>1</td>\n",
       "      <td>0</td>\n",
       "      <td>0</td>\n",
       "      <td>0</td>\n",
       "      <td>0</td>\n",
       "    </tr>\n",
       "  </tbody>\n",
       "</table>\n",
       "</div>"
      ],
      "text/plain": [
       "   any  anywhere  box  cardboard  care  cat  cats  chair  cupboard  don  fitted  frocks  in  sleep  table  the  they  with  your\n",
       "0  0    2         0    0          1     1    0     0      0         1    0       0       0   1      0      0    1     0     0   \n",
       "1  0    0         1    1          0     0    0     0      1         0    1       1       2   0      0      1    0     1     1   \n",
       "2  2    1         0    0          0     0    1     1      0         0    0       0       0   1      1      0    0     0     0   "
      ]
     },
     "execution_count": 122,
     "metadata": {},
     "output_type": "execute_result"
    }
   ],
   "source": [
    "# в CountVectorizer подаем в формате ['предложение1', 'предложение2', 'предложение3', ...]\n",
    "countvect = CountVectorizer()\n",
    "features = countvect.fit_transform(X_train['poem'].values)\n",
    "\n",
    "print(f\"\\nрезультат работы CountVectorizer:\\n{features.toarray()}\")\n",
    "print(f\"\\nполучившиеся столбцы:\\n{countvect.get_feature_names()}\")\n",
    "\n",
    "X_train_cv_transformed = pd.DataFrame(\n",
    "    features.toarray(),\n",
    "    columns=countvect.get_feature_names()\n",
    ")\n",
    "\n",
    "X_train_cv_transformed"
   ]
  },
  {
   "cell_type": "code",
   "execution_count": 124,
   "metadata": {
    "ExecuteTime": {
     "end_time": "2020-03-05T13:25:02.982049Z",
     "start_time": "2020-03-05T13:25:02.972497Z"
    }
   },
   "outputs": [
    {
     "data": {
      "text/plain": [
       "matrix([[0, 2, 0, 0, 1, 1, 0, 0, 0, 1, 0, 0, 0, 1, 0, 0, 1, 0, 0],\n",
       "        [0, 0, 1, 1, 0, 0, 0, 0, 1, 0, 1, 1, 2, 0, 0, 1, 0, 1, 1],\n",
       "        [2, 1, 0, 0, 0, 0, 1, 1, 0, 0, 0, 0, 0, 1, 1, 0, 0, 0, 0]],\n",
       "       dtype=int64)"
      ]
     },
     "execution_count": 124,
     "metadata": {},
     "output_type": "execute_result"
    }
   ],
   "source": [
    "features.todense()"
   ]
  },
  {
   "cell_type": "code",
   "execution_count": 90,
   "metadata": {
    "ExecuteTime": {
     "end_time": "2020-03-05T09:45:50.515211Z",
     "start_time": "2020-03-05T09:45:50.464442Z"
    }
   },
   "outputs": [
    {
     "data": {
      "text/html": [
       "<div>\n",
       "<style scoped>\n",
       "    .dataframe tbody tr th:only-of-type {\n",
       "        vertical-align: middle;\n",
       "    }\n",
       "\n",
       "    .dataframe tbody tr th {\n",
       "        vertical-align: top;\n",
       "    }\n",
       "\n",
       "    .dataframe thead th {\n",
       "        text-align: right;\n",
       "    }\n",
       "</style>\n",
       "<table border=\"1\" class=\"dataframe\">\n",
       "  <thead>\n",
       "    <tr style=\"text-align: right;\">\n",
       "      <th></th>\n",
       "      <th>anybody</th>\n",
       "      <th>anywhere</th>\n",
       "      <th>box</th>\n",
       "      <th>cardboard</th>\n",
       "      <th>care</th>\n",
       "      <th>cat</th>\n",
       "      <th>cupboard</th>\n",
       "      <th>do</th>\n",
       "      <th>don</th>\n",
       "      <th>drawer</th>\n",
       "      <th>...</th>\n",
       "      <th>in</th>\n",
       "      <th>lap</th>\n",
       "      <th>open</th>\n",
       "      <th>shoe</th>\n",
       "      <th>sleep</th>\n",
       "      <th>the</th>\n",
       "      <th>they</th>\n",
       "      <th>will</th>\n",
       "      <th>with</th>\n",
       "      <th>your</th>\n",
       "    </tr>\n",
       "  </thead>\n",
       "  <tbody>\n",
       "    <tr>\n",
       "      <th>0</th>\n",
       "      <td>0</td>\n",
       "      <td>1</td>\n",
       "      <td>0</td>\n",
       "      <td>0</td>\n",
       "      <td>0</td>\n",
       "      <td>0</td>\n",
       "      <td>0</td>\n",
       "      <td>0</td>\n",
       "      <td>0</td>\n",
       "      <td>0</td>\n",
       "      <td>...</td>\n",
       "      <td>0</td>\n",
       "      <td>0</td>\n",
       "      <td>0</td>\n",
       "      <td>0</td>\n",
       "      <td>1</td>\n",
       "      <td>0</td>\n",
       "      <td>0</td>\n",
       "      <td>0</td>\n",
       "      <td>0</td>\n",
       "      <td>0</td>\n",
       "    </tr>\n",
       "    <tr>\n",
       "      <th>1</th>\n",
       "      <td>0</td>\n",
       "      <td>0</td>\n",
       "      <td>0</td>\n",
       "      <td>0</td>\n",
       "      <td>0</td>\n",
       "      <td>0</td>\n",
       "      <td>0</td>\n",
       "      <td>0</td>\n",
       "      <td>0</td>\n",
       "      <td>0</td>\n",
       "      <td>...</td>\n",
       "      <td>1</td>\n",
       "      <td>0</td>\n",
       "      <td>0</td>\n",
       "      <td>0</td>\n",
       "      <td>0</td>\n",
       "      <td>2</td>\n",
       "      <td>0</td>\n",
       "      <td>0</td>\n",
       "      <td>0</td>\n",
       "      <td>0</td>\n",
       "    </tr>\n",
       "  </tbody>\n",
       "</table>\n",
       "<p>2 rows × 23 columns</p>\n",
       "</div>"
      ],
      "text/plain": [
       "   anybody  anywhere  box  cardboard  care  cat  cupboard  do  don  drawer  ...  in  lap  open  shoe  sleep  the  they  will  with  your\n",
       "0  0        1         0    0          0     0    0         0   0    0       ...  0   0    0     0     1      0    0     0     0     0   \n",
       "1  0        0         0    0          0     0    0         0   0    0       ...  1   0    0     0     0      2    0     0     0     0   \n",
       "\n",
       "[2 rows x 23 columns]"
      ]
     },
     "execution_count": 90,
     "metadata": {},
     "output_type": "execute_result"
    }
   ],
   "source": [
    "# отдельно transform на тесте\n",
    "X_test_cv_transformed = pd.DataFrame(\n",
    "    countvect.transform(X_test['poem']).todense(),\n",
    "    columns=countvect.get_feature_names()\n",
    ")\n",
    "\n",
    "X_test_cv_transformed"
   ]
  },
  {
   "cell_type": "markdown",
   "metadata": {
    "ExecuteTime": {
     "end_time": "2020-03-05T08:23:33.226611Z",
     "start_time": "2020-03-05T08:23:33.213525Z"
    }
   },
   "source": [
    "# TF-IDF = Term Frequency * Inverse Document Frequency\n",
    "\n",
    "https://towardsdatascience.com/natural-language-processing-feature-engineering-using-tf-idf-e8b9d00e7e76"
   ]
  },
  {
   "cell_type": "code",
   "execution_count": 91,
   "metadata": {
    "ExecuteTime": {
     "end_time": "2020-03-05T10:45:43.178208Z",
     "start_time": "2020-03-05T10:45:43.172622Z"
    }
   },
   "outputs": [],
   "source": [
    "from sklearn.feature_extraction.text import TfidfVectorizer "
   ]
  },
  {
   "cell_type": "code",
   "execution_count": 96,
   "metadata": {
    "ExecuteTime": {
     "end_time": "2020-03-05T10:54:24.581780Z",
     "start_time": "2020-03-05T10:54:24.517549Z"
    }
   },
   "outputs": [
    {
     "name": "stdout",
     "output_type": "stream",
     "text": [
      "\n",
      "результат работы TfidfVectorizer:\n",
      "[[0.         0.         0.28867513 0.28867513 0.         0.\n",
      "  0.28867513 0.         0.         0.         0.         0.28867513\n",
      "  0.28867513 0.57735027 0.         0.         0.         0.\n",
      "  0.28867513 0.         0.         0.28867513 0.28867513]\n",
      " [0.35355339 0.         0.         0.         0.         0.\n",
      "  0.         0.35355339 0.         0.35355339 0.35355339 0.\n",
      "  0.         0.         0.35355339 0.35355339 0.35355339 0.\n",
      "  0.         0.         0.35355339 0.         0.        ]\n",
      " [0.         0.66666667 0.         0.         0.33333333 0.33333333\n",
      "  0.         0.         0.33333333 0.         0.         0.\n",
      "  0.         0.         0.         0.         0.         0.33333333\n",
      "  0.         0.33333333 0.         0.         0.        ]]\n",
      "\n",
      "получившиеся столбцы:\n",
      "['anybody', 'anywhere', 'box', 'cardboard', 'care', 'cat', 'cupboard', 'do', 'don', 'drawer', 'empty', 'fitted', 'frocks', 'in', 'lap', 'open', 'shoe', 'sleep', 'the', 'they', 'will', 'with', 'your']\n"
     ]
    },
    {
     "data": {
      "text/html": [
       "<div>\n",
       "<style scoped>\n",
       "    .dataframe tbody tr th:only-of-type {\n",
       "        vertical-align: middle;\n",
       "    }\n",
       "\n",
       "    .dataframe tbody tr th {\n",
       "        vertical-align: top;\n",
       "    }\n",
       "\n",
       "    .dataframe thead th {\n",
       "        text-align: right;\n",
       "    }\n",
       "</style>\n",
       "<table border=\"1\" class=\"dataframe\">\n",
       "  <thead>\n",
       "    <tr style=\"text-align: right;\">\n",
       "      <th></th>\n",
       "      <th>anybody</th>\n",
       "      <th>anywhere</th>\n",
       "      <th>box</th>\n",
       "      <th>cardboard</th>\n",
       "      <th>care</th>\n",
       "      <th>cat</th>\n",
       "      <th>cupboard</th>\n",
       "      <th>do</th>\n",
       "      <th>don</th>\n",
       "      <th>drawer</th>\n",
       "      <th>...</th>\n",
       "      <th>in</th>\n",
       "      <th>lap</th>\n",
       "      <th>open</th>\n",
       "      <th>shoe</th>\n",
       "      <th>sleep</th>\n",
       "      <th>the</th>\n",
       "      <th>they</th>\n",
       "      <th>will</th>\n",
       "      <th>with</th>\n",
       "      <th>your</th>\n",
       "    </tr>\n",
       "  </thead>\n",
       "  <tbody>\n",
       "    <tr>\n",
       "      <th>0</th>\n",
       "      <td>0.000000</td>\n",
       "      <td>0.000000</td>\n",
       "      <td>0.288675</td>\n",
       "      <td>0.288675</td>\n",
       "      <td>0.000000</td>\n",
       "      <td>0.000000</td>\n",
       "      <td>0.288675</td>\n",
       "      <td>0.000000</td>\n",
       "      <td>0.000000</td>\n",
       "      <td>0.000000</td>\n",
       "      <td>...</td>\n",
       "      <td>0.57735</td>\n",
       "      <td>0.000000</td>\n",
       "      <td>0.000000</td>\n",
       "      <td>0.000000</td>\n",
       "      <td>0.000000</td>\n",
       "      <td>0.288675</td>\n",
       "      <td>0.000000</td>\n",
       "      <td>0.000000</td>\n",
       "      <td>0.288675</td>\n",
       "      <td>0.288675</td>\n",
       "    </tr>\n",
       "    <tr>\n",
       "      <th>1</th>\n",
       "      <td>0.353553</td>\n",
       "      <td>0.000000</td>\n",
       "      <td>0.000000</td>\n",
       "      <td>0.000000</td>\n",
       "      <td>0.000000</td>\n",
       "      <td>0.000000</td>\n",
       "      <td>0.000000</td>\n",
       "      <td>0.353553</td>\n",
       "      <td>0.000000</td>\n",
       "      <td>0.353553</td>\n",
       "      <td>...</td>\n",
       "      <td>0.00000</td>\n",
       "      <td>0.353553</td>\n",
       "      <td>0.353553</td>\n",
       "      <td>0.353553</td>\n",
       "      <td>0.000000</td>\n",
       "      <td>0.000000</td>\n",
       "      <td>0.000000</td>\n",
       "      <td>0.353553</td>\n",
       "      <td>0.000000</td>\n",
       "      <td>0.000000</td>\n",
       "    </tr>\n",
       "    <tr>\n",
       "      <th>2</th>\n",
       "      <td>0.000000</td>\n",
       "      <td>0.666667</td>\n",
       "      <td>0.000000</td>\n",
       "      <td>0.000000</td>\n",
       "      <td>0.333333</td>\n",
       "      <td>0.333333</td>\n",
       "      <td>0.000000</td>\n",
       "      <td>0.000000</td>\n",
       "      <td>0.333333</td>\n",
       "      <td>0.000000</td>\n",
       "      <td>...</td>\n",
       "      <td>0.00000</td>\n",
       "      <td>0.000000</td>\n",
       "      <td>0.000000</td>\n",
       "      <td>0.000000</td>\n",
       "      <td>0.333333</td>\n",
       "      <td>0.000000</td>\n",
       "      <td>0.333333</td>\n",
       "      <td>0.000000</td>\n",
       "      <td>0.000000</td>\n",
       "      <td>0.000000</td>\n",
       "    </tr>\n",
       "  </tbody>\n",
       "</table>\n",
       "<p>3 rows × 23 columns</p>\n",
       "</div>"
      ],
      "text/plain": [
       "    anybody  anywhere       box  cardboard      care       cat  cupboard        do       don    drawer  ...       in       lap      open      shoe     sleep       the      they      will      with      your\n",
       "0  0.000000  0.000000  0.288675  0.288675   0.000000  0.000000  0.288675  0.000000  0.000000  0.000000  ...  0.57735  0.000000  0.000000  0.000000  0.000000  0.288675  0.000000  0.000000  0.288675  0.288675\n",
       "1  0.353553  0.000000  0.000000  0.000000   0.000000  0.000000  0.000000  0.353553  0.000000  0.353553  ...  0.00000  0.353553  0.353553  0.353553  0.000000  0.000000  0.000000  0.353553  0.000000  0.000000\n",
       "2  0.000000  0.666667  0.000000  0.000000   0.333333  0.333333  0.000000  0.000000  0.333333  0.000000  ...  0.00000  0.000000  0.000000  0.000000  0.333333  0.000000  0.333333  0.000000  0.000000  0.000000\n",
       "\n",
       "[3 rows x 23 columns]"
      ]
     },
     "execution_count": 96,
     "metadata": {},
     "output_type": "execute_result"
    }
   ],
   "source": [
    "tfidf = TfidfVectorizer()\n",
    "\n",
    "data = tfidf.fit_transform(X_train['poem']).toarray()\n",
    "\n",
    "print(f\"\\nрезультат работы TfidfVectorizer:\\n{data}\")\n",
    "print(f\"\\nполучившиеся столбцы:\\n{tfidf.get_feature_names()}\")\n",
    "\n",
    "X_train_tfidf_transfomed = pd.DataFrame(\n",
    "    data,\n",
    "    columns=tfidf.get_feature_names()\n",
    ") \n",
    "\n",
    "X_train_tfidf_transfomed"
   ]
  },
  {
   "cell_type": "code",
   "execution_count": 97,
   "metadata": {
    "ExecuteTime": {
     "end_time": "2020-03-05T10:55:15.440323Z",
     "start_time": "2020-03-05T10:55:15.388180Z"
    }
   },
   "outputs": [
    {
     "data": {
      "text/html": [
       "<div>\n",
       "<style scoped>\n",
       "    .dataframe tbody tr th:only-of-type {\n",
       "        vertical-align: middle;\n",
       "    }\n",
       "\n",
       "    .dataframe tbody tr th {\n",
       "        vertical-align: top;\n",
       "    }\n",
       "\n",
       "    .dataframe thead th {\n",
       "        text-align: right;\n",
       "    }\n",
       "</style>\n",
       "<table border=\"1\" class=\"dataframe\">\n",
       "  <thead>\n",
       "    <tr style=\"text-align: right;\">\n",
       "      <th></th>\n",
       "      <th>anybody</th>\n",
       "      <th>anywhere</th>\n",
       "      <th>box</th>\n",
       "      <th>cardboard</th>\n",
       "      <th>care</th>\n",
       "      <th>cat</th>\n",
       "      <th>cupboard</th>\n",
       "      <th>do</th>\n",
       "      <th>don</th>\n",
       "      <th>drawer</th>\n",
       "      <th>...</th>\n",
       "      <th>in</th>\n",
       "      <th>lap</th>\n",
       "      <th>open</th>\n",
       "      <th>shoe</th>\n",
       "      <th>sleep</th>\n",
       "      <th>the</th>\n",
       "      <th>they</th>\n",
       "      <th>will</th>\n",
       "      <th>with</th>\n",
       "      <th>your</th>\n",
       "    </tr>\n",
       "  </thead>\n",
       "  <tbody>\n",
       "    <tr>\n",
       "      <th>0</th>\n",
       "      <td>0.0</td>\n",
       "      <td>0.707107</td>\n",
       "      <td>0.0</td>\n",
       "      <td>0.0</td>\n",
       "      <td>0.0</td>\n",
       "      <td>0.0</td>\n",
       "      <td>0.0</td>\n",
       "      <td>0.0</td>\n",
       "      <td>0.0</td>\n",
       "      <td>0.0</td>\n",
       "      <td>...</td>\n",
       "      <td>0.000000</td>\n",
       "      <td>0.0</td>\n",
       "      <td>0.0</td>\n",
       "      <td>0.0</td>\n",
       "      <td>0.707107</td>\n",
       "      <td>0.000000</td>\n",
       "      <td>0.0</td>\n",
       "      <td>0.0</td>\n",
       "      <td>0.0</td>\n",
       "      <td>0.0</td>\n",
       "    </tr>\n",
       "    <tr>\n",
       "      <th>1</th>\n",
       "      <td>0.0</td>\n",
       "      <td>0.000000</td>\n",
       "      <td>0.0</td>\n",
       "      <td>0.0</td>\n",
       "      <td>0.0</td>\n",
       "      <td>0.0</td>\n",
       "      <td>0.0</td>\n",
       "      <td>0.0</td>\n",
       "      <td>0.0</td>\n",
       "      <td>0.0</td>\n",
       "      <td>...</td>\n",
       "      <td>0.447214</td>\n",
       "      <td>0.0</td>\n",
       "      <td>0.0</td>\n",
       "      <td>0.0</td>\n",
       "      <td>0.000000</td>\n",
       "      <td>0.894427</td>\n",
       "      <td>0.0</td>\n",
       "      <td>0.0</td>\n",
       "      <td>0.0</td>\n",
       "      <td>0.0</td>\n",
       "    </tr>\n",
       "  </tbody>\n",
       "</table>\n",
       "<p>2 rows × 23 columns</p>\n",
       "</div>"
      ],
      "text/plain": [
       "   anybody  anywhere  box  cardboard  care  cat  cupboard   do  don  drawer  ...        in  lap  open  shoe     sleep       the  they  will  with  your\n",
       "0  0.0      0.707107  0.0  0.0        0.0   0.0  0.0       0.0  0.0  0.0     ...  0.000000  0.0  0.0   0.0   0.707107  0.000000  0.0   0.0   0.0   0.0 \n",
       "1  0.0      0.000000  0.0  0.0        0.0   0.0  0.0       0.0  0.0  0.0     ...  0.447214  0.0  0.0   0.0   0.000000  0.894427  0.0   0.0   0.0   0.0 \n",
       "\n",
       "[2 rows x 23 columns]"
      ]
     },
     "execution_count": 97,
     "metadata": {},
     "output_type": "execute_result"
    }
   ],
   "source": [
    "# отдельно transform на тесте\n",
    "X_test_tfidf_transformed = pd.DataFrame(\n",
    "    tfidf.transform(X_test['poem']).toarray(),\n",
    "    columns=tfidf.get_feature_names()\n",
    ")\n",
    "\n",
    "X_test_tfidf_transformed"
   ]
  },
  {
   "cell_type": "markdown",
   "metadata": {},
   "source": [
    "# Homework\n",
    "\n",
    "- что такое min_df и max_df в параметрах TfidfVectorizer?"
   ]
  },
  {
   "cell_type": "markdown",
   "metadata": {},
   "source": [
    "# Предобработка текстов\n",
    "\n",
    "### 1. Токенизация = разбиение текста на более мелкие части, токены\n",
    "\n",
    "### 2. Обработка токенов:\n",
    "\n",
    "- **лемматизация** = приведение к нормальной форме (drove --> drive)\n",
    "- **стемминг** = процесс нахождения основы слова для заданного исходного слова (котиков --> котик)\n",
    "\n",
    "Есть проблема: сильная привязка к конкретному языку\n",
    "\n",
    "Основы Natural Language Processing для текста\n",
    "https://habr.com/ru/company/Voximplant/blog/446738/"
   ]
  },
  {
   "cell_type": "code",
   "execution_count": 100,
   "metadata": {
    "ExecuteTime": {
     "end_time": "2020-03-05T10:59:30.821567Z",
     "start_time": "2020-03-05T10:59:30.809436Z"
    }
   },
   "outputs": [
    {
     "data": {
      "text/plain": [
       "['anybody',\n",
       " 'anywhere',\n",
       " 'box',\n",
       " 'cardboard',\n",
       " 'care',\n",
       " 'cat',\n",
       " 'cupboard',\n",
       " 'do',\n",
       " 'don',\n",
       " 'drawer',\n",
       " 'empty',\n",
       " 'fitted',\n",
       " 'frocks',\n",
       " 'in',\n",
       " 'lap',\n",
       " 'open',\n",
       " 'shoe',\n",
       " 'sleep',\n",
       " 'the',\n",
       " 'they',\n",
       " 'will',\n",
       " 'with',\n",
       " 'your']"
      ]
     },
     "execution_count": 100,
     "metadata": {},
     "output_type": "execute_result"
    }
   ],
   "source": [
    "tfidf.get_feature_names()"
   ]
  },
  {
   "cell_type": "markdown",
   "metadata": {},
   "source": [
    "# Библиотека nltk"
   ]
  },
  {
   "cell_type": "code",
   "execution_count": 102,
   "metadata": {
    "ExecuteTime": {
     "end_time": "2020-03-05T12:25:37.687254Z",
     "start_time": "2020-03-05T12:25:37.071334Z"
    }
   },
   "outputs": [],
   "source": [
    "import nltk"
   ]
  },
  {
   "cell_type": "code",
   "execution_count": 7,
   "metadata": {
    "ExecuteTime": {
     "end_time": "2020-03-05T08:20:00.145463Z",
     "start_time": "2020-03-05T08:09:56.592953Z"
    },
    "scrolled": true
   },
   "outputs": [
    {
     "name": "stdout",
     "output_type": "stream",
     "text": [
      "showing info https://raw.githubusercontent.com/nltk/nltk_data/gh-pages/index.xml\n"
     ]
    },
    {
     "data": {
      "text/plain": [
       "True"
      ]
     },
     "execution_count": 7,
     "metadata": {},
     "output_type": "execute_result"
    }
   ],
   "source": [
    "nltk.download()\n",
    "# try nltk.set_proxy()"
   ]
  },
  {
   "attachments": {
    "image.png": {
     "image/png": "[encoded data removed]"
    }
   },
   "cell_type": "markdown",
   "metadata": {},
   "source": [
    "![image.png](attachment:image.png)"
   ]
  },
  {
   "cell_type": "code",
   "execution_count": 105,
   "metadata": {
    "ExecuteTime": {
     "end_time": "2020-03-05T12:27:25.163515Z",
     "start_time": "2020-03-05T12:27:25.147548Z"
    }
   },
   "outputs": [
    {
     "name": "stdout",
     "output_type": "stream",
     "text": [
      "['feet', 'cats', 'wolves', 'talked']\n"
     ]
    },
    {
     "data": {
      "text/plain": [
       "'feet cat wolv talk'"
      ]
     },
     "execution_count": 105,
     "metadata": {},
     "output_type": "execute_result"
    }
   ],
   "source": [
    "text = \"feet cats wolves talked\"\n",
    "\n",
    "# разобьем на токены\n",
    "tokenizer = nltk.tokenize.TreebankWordTokenizer()\n",
    "tokens = tokenizer.tokenize(text)\n",
    "print(tokens)\n",
    "\n",
    "# стемминг!\n",
    "stemmer = nltk.stem.PorterStemmer()\n",
    "\n",
    "\" \".join(stemmer.stem(token) for token in tokens)"
   ]
  },
  {
   "cell_type": "code",
   "execution_count": 128,
   "metadata": {
    "ExecuteTime": {
     "end_time": "2020-03-05T13:42:31.541800Z",
     "start_time": "2020-03-05T13:42:31.526615Z"
    }
   },
   "outputs": [
    {
     "name": "stdout",
     "output_type": "stream",
     "text": [
      "['Филипп', 'пошёл', 'в', 'Авеньон', 'и', 'пленил', 'пап', '!']\n"
     ]
    },
    {
     "data": {
      "text/plain": [
       "'филипп пошел в авеньон и плен пап !'"
      ]
     },
     "execution_count": 128,
     "metadata": {},
     "output_type": "execute_result"
    }
   ],
   "source": [
    "# а что насчет русских слов?\n",
    "from nltk import SnowballStemmer\n",
    "\n",
    "text = \"Филипп пошёл в Авеньон и пленил пап!\"\n",
    "tokens = tokenizer.tokenize(text)\n",
    "print(tokens)\n",
    "\n",
    "stemmer = SnowballStemmer('russian')\n",
    "\n",
    "\" \".join(stemmer.stem(token) for token in tokens)"
   ]
  },
  {
   "cell_type": "markdown",
   "metadata": {},
   "source": [
    "### stop words - используем для удаления из нашего текста\n",
    "\n",
    "- есть встроеные в nltk\n",
    "\n",
    "<code>\n",
    "my_vocabulary = [word for word in words if word not in stopwords]\n",
    "</code>"
   ]
  },
  {
   "cell_type": "code",
   "execution_count": 127,
   "metadata": {
    "ExecuteTime": {
     "end_time": "2020-03-05T13:41:08.803593Z",
     "start_time": "2020-03-05T13:41:08.790849Z"
    }
   },
   "outputs": [
    {
     "data": {
      "text/plain": [
       "['и',\n",
       " 'в',\n",
       " 'во',\n",
       " 'не',\n",
       " 'что',\n",
       " 'он',\n",
       " 'на',\n",
       " 'я',\n",
       " 'с',\n",
       " 'со',\n",
       " 'как',\n",
       " 'а',\n",
       " 'то',\n",
       " 'все',\n",
       " 'она',\n",
       " 'так',\n",
       " 'его',\n",
       " 'но',\n",
       " 'да',\n",
       " 'ты',\n",
       " 'к',\n",
       " 'у',\n",
       " 'же',\n",
       " 'вы',\n",
       " 'за',\n",
       " 'бы',\n",
       " 'по',\n",
       " 'только',\n",
       " 'ее',\n",
       " 'мне',\n",
       " 'было',\n",
       " 'вот',\n",
       " 'от',\n",
       " 'меня',\n",
       " 'еще',\n",
       " 'нет',\n",
       " 'о',\n",
       " 'из',\n",
       " 'ему',\n",
       " 'теперь',\n",
       " 'когда',\n",
       " 'даже',\n",
       " 'ну',\n",
       " 'вдруг',\n",
       " 'ли',\n",
       " 'если',\n",
       " 'уже',\n",
       " 'или',\n",
       " 'ни',\n",
       " 'быть',\n",
       " 'был',\n",
       " 'него',\n",
       " 'до',\n",
       " 'вас',\n",
       " 'нибудь',\n",
       " 'опять',\n",
       " 'уж',\n",
       " 'вам',\n",
       " 'ведь',\n",
       " 'там',\n",
       " 'потом',\n",
       " 'себя',\n",
       " 'ничего',\n",
       " 'ей',\n",
       " 'может',\n",
       " 'они',\n",
       " 'тут',\n",
       " 'где',\n",
       " 'есть',\n",
       " 'надо',\n",
       " 'ней',\n",
       " 'для',\n",
       " 'мы',\n",
       " 'тебя',\n",
       " 'их',\n",
       " 'чем',\n",
       " 'была',\n",
       " 'сам',\n",
       " 'чтоб',\n",
       " 'без',\n",
       " 'будто',\n",
       " 'чего',\n",
       " 'раз',\n",
       " 'тоже',\n",
       " 'себе',\n",
       " 'под',\n",
       " 'будет',\n",
       " 'ж',\n",
       " 'тогда',\n",
       " 'кто',\n",
       " 'этот',\n",
       " 'того',\n",
       " 'потому',\n",
       " 'этого',\n",
       " 'какой',\n",
       " 'совсем',\n",
       " 'ним',\n",
       " 'здесь',\n",
       " 'этом',\n",
       " 'один',\n",
       " 'почти',\n",
       " 'мой',\n",
       " 'тем',\n",
       " 'чтобы',\n",
       " 'нее',\n",
       " 'сейчас',\n",
       " 'были',\n",
       " 'куда',\n",
       " 'зачем',\n",
       " 'всех',\n",
       " 'никогда',\n",
       " 'можно',\n",
       " 'при',\n",
       " 'наконец',\n",
       " 'два',\n",
       " 'об',\n",
       " 'другой',\n",
       " 'хоть',\n",
       " 'после',\n",
       " 'над',\n",
       " 'больше',\n",
       " 'тот',\n",
       " 'через',\n",
       " 'эти',\n",
       " 'нас',\n",
       " 'про',\n",
       " 'всего',\n",
       " 'них',\n",
       " 'какая',\n",
       " 'много',\n",
       " 'разве',\n",
       " 'три',\n",
       " 'эту',\n",
       " 'моя',\n",
       " 'впрочем',\n",
       " 'хорошо',\n",
       " 'свою',\n",
       " 'этой',\n",
       " 'перед',\n",
       " 'иногда',\n",
       " 'лучше',\n",
       " 'чуть',\n",
       " 'том',\n",
       " 'нельзя',\n",
       " 'такой',\n",
       " 'им',\n",
       " 'более',\n",
       " 'всегда',\n",
       " 'конечно',\n",
       " 'всю',\n",
       " 'между']"
      ]
     },
     "execution_count": 127,
     "metadata": {},
     "output_type": "execute_result"
    }
   ],
   "source": [
    "stopwords_ru = nltk.corpus.stopwords.words('russian') \n",
    "len(stopwords_ru)\n",
    "stopwords_ru"
   ]
  },
  {
   "cell_type": "code",
   "execution_count": 126,
   "metadata": {
    "ExecuteTime": {
     "end_time": "2020-03-05T13:40:53.972116Z",
     "start_time": "2020-03-05T13:40:53.958072Z"
    }
   },
   "outputs": [
    {
     "data": {
      "text/plain": [
       "179"
      ]
     },
     "execution_count": 126,
     "metadata": {},
     "output_type": "execute_result"
    }
   ],
   "source": [
    "stopwords_eng = nltk.corpus.stopwords.words('english') \n",
    "len(stopwords_eng)"
   ]
  },
  {
   "cell_type": "markdown",
   "metadata": {
    "collapsed": true
   },
   "source": [
    "# библиотека pymorty2\n",
    "(https://pymorphy2.readthedocs.io/en/0.2/user/index.html) "
   ]
  },
  {
   "cell_type": "code",
   "execution_count": 112,
   "metadata": {
    "ExecuteTime": {
     "end_time": "2020-03-05T12:36:59.574905Z",
     "start_time": "2020-03-05T12:36:59.406582Z"
    }
   },
   "outputs": [
    {
     "data": {
      "text/plain": [
       "'филипп пойти в авеньон и пленить папа !'"
      ]
     },
     "execution_count": 112,
     "metadata": {},
     "output_type": "execute_result"
    }
   ],
   "source": [
    "import pymorphy2\n",
    "morph = pymorphy2.MorphAnalyzer()\n",
    "\n",
    "text = \"Филипп пошёл в Авеньон и пленил пап!\"\n",
    "tokens = tokenizer.tokenize(text)\n",
    "\n",
    "\" \".join(morph.normal_forms(token)[0] for token in tokens)"
   ]
  },
  {
   "cell_type": "code",
   "execution_count": 113,
   "metadata": {
    "ExecuteTime": {
     "end_time": "2020-03-05T12:37:11.336345Z",
     "start_time": "2020-03-05T12:37:11.316437Z"
    }
   },
   "outputs": [
    {
     "data": {
      "text/plain": [
       "[Parse(word='стали', tag=OpencorporaTag('VERB,perf,intr plur,past,indc'), normal_form='стать', score=0.984662, methods_stack=((<DictionaryAnalyzer>, 'стали', 904, 4),)),\n",
       " Parse(word='стали', tag=OpencorporaTag('NOUN,inan,femn sing,gent'), normal_form='сталь', score=0.003067, methods_stack=((<DictionaryAnalyzer>, 'стали', 13, 1),)),\n",
       " Parse(word='стали', tag=OpencorporaTag('NOUN,inan,femn sing,datv'), normal_form='сталь', score=0.003067, methods_stack=((<DictionaryAnalyzer>, 'стали', 13, 2),)),\n",
       " Parse(word='стали', tag=OpencorporaTag('NOUN,inan,femn sing,loct'), normal_form='сталь', score=0.003067, methods_stack=((<DictionaryAnalyzer>, 'стали', 13, 5),)),\n",
       " Parse(word='стали', tag=OpencorporaTag('NOUN,inan,femn plur,nomn'), normal_form='сталь', score=0.003067, methods_stack=((<DictionaryAnalyzer>, 'стали', 13, 6),)),\n",
       " Parse(word='стали', tag=OpencorporaTag('NOUN,inan,femn plur,accs'), normal_form='сталь', score=0.003067, methods_stack=((<DictionaryAnalyzer>, 'стали', 13, 9),))]"
      ]
     },
     "execution_count": 113,
     "metadata": {},
     "output_type": "execute_result"
    }
   ],
   "source": [
    "morph.parse('стали')"
   ]
  },
  {
   "cell_type": "code",
   "execution_count": 114,
   "metadata": {
    "ExecuteTime": {
     "end_time": "2020-03-05T12:37:27.605856Z",
     "start_time": "2020-03-05T12:37:27.596641Z"
    }
   },
   "outputs": [
    {
     "data": {
      "text/plain": [
       "[Parse(word='бутявковедами', tag=OpencorporaTag('NOUN,anim,masc plur,ablt'), normal_form='бутявковед', score=1.0, methods_stack=((<FakeDictionary>, 'бутявковедами', 52, 10), (<KnownSuffixAnalyzer>, 'едами')))]"
      ]
     },
     "execution_count": 114,
     "metadata": {},
     "output_type": "execute_result"
    }
   ],
   "source": [
    "# прогнозы для неизвестных слов\n",
    "morph.parse('бутявковедами')"
   ]
  },
  {
   "cell_type": "markdown",
   "metadata": {},
   "source": [
    "# Пример\n",
    "\n",
    "Обычно пишут функцию, которая делает все и сразу"
   ]
  },
  {
   "cell_type": "code",
   "execution_count": 115,
   "metadata": {
    "ExecuteTime": {
     "end_time": "2020-03-05T12:43:56.625691Z",
     "start_time": "2020-03-05T12:43:56.614094Z"
    }
   },
   "outputs": [],
   "source": [
    "from nltk.corpus import stopwords\n",
    "import re\n",
    "import nltk\n",
    "import pymorphy2\n",
    "\n",
    "stopwords_rus = set(stopwords.words('russian'))\n",
    "\n",
    "def token_lemma(text, stop = None, lemmatizer=None):\n",
    "    \"\"\" \n",
    "    Возвращает тексты: \n",
    "        * очищенные от тэгов, - ok\n",
    "        * лемматизированные, \n",
    "        * без стоп-слов, \n",
    "        * в нижнем регистре, - ok\n",
    "        * все слова длиннее >=3 - ok\n",
    "\n",
    "    text: string\n",
    "        Текст поста\n",
    "\n",
    "    parameters: list \n",
    "        stop: список из стоп-слов, example: ['политик', 'выбирать']\n",
    "    \"\"\"\n",
    "    \n",
    "    text = re.sub('<[^<]+?>', '', str(text).lower()) \n",
    "    words = re.findall('\\w+', text)\n",
    "    \n",
    "    morph = pymorphy2.MorphAnalyzer()\n",
    "    words = [morph.normal_forms(word)[0] for word in words if len(word) >= 3]\n",
    "    \n",
    "    if stop:\n",
    "        words = [word for word in words if word not in stop]\n",
    "    return ' '.join(words)\n"
   ]
  },
  {
   "cell_type": "code",
   "execution_count": null,
   "metadata": {},
   "outputs": [],
   "source": []
  }
 ],
 "metadata": {
  "kernelspec": {
   "display_name": "cs231n",
   "language": "python",
   "name": "cs231n"
  },
  "language_info": {
   "codemirror_mode": {
    "name": "ipython",
    "version": 3
   },
   "file_extension": ".py",
   "mimetype": "text/x-python",
   "name": "python",
   "nbconvert_exporter": "python",
   "pygments_lexer": "ipython3",
   "version": "3.6.7"
  }
 },
 "nbformat": 4,
 "nbformat_minor": 2
}
